{
  "nbformat": 4,
  "nbformat_minor": 0,
  "metadata": {
    "colab": {
      "name": "Untitled45.ipynb",
      "version": "0.3.2",
      "provenance": [],
      "include_colab_link": true
    },
    "kernelspec": {
      "name": "python3",
      "display_name": "Python 3"
    },
    "accelerator": "GPU"
  },
  "cells": [
    {
      "cell_type": "markdown",
      "metadata": {
        "id": "view-in-github",
        "colab_type": "text"
      },
      "source": [
        "<a href=\"https://colab.research.google.com/github/fambargh/SAMPLE/blob/master/Untitled45.ipynb\" target=\"_parent\"><img src=\"https://colab.research.google.com/assets/colab-badge.svg\" alt=\"Open In Colab\"/></a>"
      ]
    },
    {
      "cell_type": "code",
      "metadata": {
        "id": "TJsLU1AikKII",
        "colab_type": "code",
        "colab": {}
      },
      "source": [
        "from keras.layers import Conv2D, UpSampling2D, InputLayer, Conv2DTranspose\n",
        "from keras.layers import Activation, Dense, Dropout, Flatten\n",
        "from keras.layers.normalization import BatchNormalization\n",
        "from keras.models import Sequential\n",
        "from keras.preprocessing.image import ImageDataGenerator, array_to_img, img_to_array, load_img\n",
        "from skimage.color import rgb2lab, lab2rgb, rgb2gray, xyz2lab\n",
        "from skimage.io import imsave\n",
        "import numpy as np\n",
        "import os\n",
        "import random\n",
        "import tensorflow as tf\n",
        "import cv2"
      ],
      "execution_count": 0,
      "outputs": []
    },
    {
      "cell_type": "code",
      "metadata": {
        "id": "pSPIJVRlkO-C",
        "colab_type": "code",
        "outputId": "8515255c-739f-43cc-e7c1-f3188d778af2",
        "colab": {
          "base_uri": "https://localhost:8080/",
          "height": 122
        }
      },
      "source": [
        "from google.colab import drive\n",
        "drive.mount('/content/drive',force_remount=True)"
      ],
      "execution_count": 0,
      "outputs": [
        {
          "output_type": "stream",
          "text": [
            "Go to this URL in a browser: https://accounts.google.com/o/oauth2/auth?client_id=947318989803-6bn6qk8qdgf4n4g3pfee6491hc0brc4i.apps.googleusercontent.com&redirect_uri=urn%3Aietf%3Awg%3Aoauth%3A2.0%3Aoob&scope=email%20https%3A%2F%2Fwww.googleapis.com%2Fauth%2Fdocs.test%20https%3A%2F%2Fwww.googleapis.com%2Fauth%2Fdrive%20https%3A%2F%2Fwww.googleapis.com%2Fauth%2Fdrive.photos.readonly%20https%3A%2F%2Fwww.googleapis.com%2Fauth%2Fpeopleapi.readonly&response_type=code\n",
            "\n",
            "Enter your authorization code:\n",
            "··········\n",
            "Mounted at /content/drive\n"
          ],
          "name": "stdout"
        }
      ]
    },
    {
      "cell_type": "code",
      "metadata": {
        "id": "6Iwpx_7OkPAh",
        "colab_type": "code",
        "colab": {}
      },
      "source": [
        "s='/content/drive/My Drive/muip/mui/'"
      ],
      "execution_count": 0,
      "outputs": []
    },
    {
      "cell_type": "code",
      "metadata": {
        "id": "rUKK0ty_kPC0",
        "colab_type": "code",
        "colab": {}
      },
      "source": [
        "from keras.preprocessing.image import ImageDataGenerator\n",
        "datagen=ImageDataGenerator(rescale=1./255)\n",
        "batch_size=20"
      ],
      "execution_count": 0,
      "outputs": []
    },
    {
      "cell_type": "code",
      "metadata": {
        "id": "fpU96CgLlSnE",
        "colab_type": "code",
        "outputId": "9ca10074-44d1-4c7a-f764-7697692f9a61",
        "colab": {
          "base_uri": "https://localhost:8080/",
          "height": 34
        }
      },
      "source": [
        "generator=datagen.flow_from_directory(s,target_size=(150,150),batch_size=batch_size,class_mode='binary')\n"
      ],
      "execution_count": 0,
      "outputs": [
        {
          "output_type": "stream",
          "text": [
            "Found 0 images belonging to 0 classes.\n"
          ],
          "name": "stdout"
        }
      ]
    },
    {
      "cell_type": "code",
      "metadata": {
        "id": "BTjFfQNJoSqP",
        "colab_type": "code",
        "colab": {}
      },
      "source": [
        "X = []\n",
        "for filename in os.listdir(s):\n",
        "    X.append(img_to_array(load_img(s+filename)))\n",
        "X = np.array(X, dtype=float)\n",
        "Xtrain = 1.0/255*X\n",
        "print(X)"
      ],
      "execution_count": 0,
      "outputs": []
    },
    {
      "cell_type": "code",
      "metadata": {
        "id": "dsPorNNqqM4Y",
        "colab_type": "code",
        "outputId": "118a6e5c-b0da-486d-b54e-55cd91d0e446",
        "colab": {
          "base_uri": "https://localhost:8080/",
          "height": 231
        }
      },
      "source": [
        "fnames=['/content/drive/My Drive/muip/mui/Copy of image1-{}.jpg'.format(i) for i in range(2,7)]\n",
        "img = cv2.imread('fnames',0)\n",
        "ret,thresh1 = cv2.threshold(img,160,255,cv2.THRESH_BINARY)\n",
        "    # calculate moments of binary image\n",
        "M = cv2.moments(thresh1)\n",
        "cX = int(M[\"m10\"] / M[\"m00\"])\n",
        "cY = int(M[\"m01\"] / M[\"m00\"])\n",
        "(cX,cY)\n",
        "y=img[int(cY-250):int(cY+250),int(cX-250):int(cX+250)]\n",
        "y[i*batch_size:(i+1)*batch_size]=y"
      ],
      "execution_count": 0,
      "outputs": [
        {
          "output_type": "error",
          "ename": "ZeroDivisionError",
          "evalue": "ignored",
          "traceback": [
            "\u001b[0;31m---------------------------------------------------------------------------\u001b[0m",
            "\u001b[0;31mZeroDivisionError\u001b[0m                         Traceback (most recent call last)",
            "\u001b[0;32m<ipython-input-53-e12a746d0c26>\u001b[0m in \u001b[0;36m<module>\u001b[0;34m()\u001b[0m\n\u001b[1;32m      4\u001b[0m     \u001b[0;31m# calculate moments of binary image\u001b[0m\u001b[0;34m\u001b[0m\u001b[0;34m\u001b[0m\u001b[0;34m\u001b[0m\u001b[0m\n\u001b[1;32m      5\u001b[0m \u001b[0mM\u001b[0m \u001b[0;34m=\u001b[0m \u001b[0mcv2\u001b[0m\u001b[0;34m.\u001b[0m\u001b[0mmoments\u001b[0m\u001b[0;34m(\u001b[0m\u001b[0mthresh1\u001b[0m\u001b[0;34m)\u001b[0m\u001b[0;34m\u001b[0m\u001b[0;34m\u001b[0m\u001b[0m\n\u001b[0;32m----> 6\u001b[0;31m \u001b[0mcX\u001b[0m \u001b[0;34m=\u001b[0m \u001b[0mint\u001b[0m\u001b[0;34m(\u001b[0m\u001b[0mM\u001b[0m\u001b[0;34m[\u001b[0m\u001b[0;34m\"m10\"\u001b[0m\u001b[0;34m]\u001b[0m \u001b[0;34m/\u001b[0m \u001b[0mM\u001b[0m\u001b[0;34m[\u001b[0m\u001b[0;34m\"m00\"\u001b[0m\u001b[0;34m]\u001b[0m\u001b[0;34m)\u001b[0m\u001b[0;34m\u001b[0m\u001b[0;34m\u001b[0m\u001b[0m\n\u001b[0m\u001b[1;32m      7\u001b[0m \u001b[0mcY\u001b[0m \u001b[0;34m=\u001b[0m \u001b[0mint\u001b[0m\u001b[0;34m(\u001b[0m\u001b[0mM\u001b[0m\u001b[0;34m[\u001b[0m\u001b[0;34m\"m01\"\u001b[0m\u001b[0;34m]\u001b[0m \u001b[0;34m/\u001b[0m \u001b[0mM\u001b[0m\u001b[0;34m[\u001b[0m\u001b[0;34m\"m00\"\u001b[0m\u001b[0;34m]\u001b[0m\u001b[0;34m)\u001b[0m\u001b[0;34m\u001b[0m\u001b[0;34m\u001b[0m\u001b[0m\n\u001b[1;32m      8\u001b[0m \u001b[0;34m(\u001b[0m\u001b[0mcX\u001b[0m\u001b[0;34m,\u001b[0m\u001b[0mcY\u001b[0m\u001b[0;34m)\u001b[0m\u001b[0;34m\u001b[0m\u001b[0;34m\u001b[0m\u001b[0m\n",
            "\u001b[0;31mZeroDivisionError\u001b[0m: float division by zero"
          ]
        }
      ]
    },
    {
      "cell_type": "code",
      "metadata": {
        "id": "cYgE5xqblkRd",
        "colab_type": "code",
        "outputId": "df40a509-1200-4802-b423-4de54d4f7015",
        "colab": {
          "base_uri": "https://localhost:8080/",
          "height": 231
        }
      },
      "source": [
        "batch_size=1\n",
        "f1=np.zeros(shape=(14))\n",
        "for input_batchs in generator:\n",
        "    img = cv2.imread('input_batchs',0)\n",
        "    ret,thresh1 = cv2.threshold(img,160,255,cv2.THRESH_BINARY)\n",
        "    # calculate moments of binary image\n",
        "    M = cv2.moments(thresh1)\n",
        "    cX = int(M[\"m10\"] / M[\"m00\"])\n",
        "    cY = int(M[\"m01\"] / M[\"m00\"])\n",
        "    (cX,cY)\n",
        "    o=input_batchs[int(cY-250):int(cY+250),int(cX-250):int(cX+250)]\n",
        "    o[i*batch_size:(i+1)*batch_size]=o\n",
        "    featurs1[i*batch_size:(i+1)*batch_size]=feature_batch1\n",
        "    i+=1\n",
        "    if i*batch_size>=sample_count:\n",
        "      break\n",
        "  return features1,train_features2,train_features3"
      ],
      "execution_count": 0,
      "outputs": [
        {
          "output_type": "error",
          "ename": "ZeroDivisionError",
          "evalue": "ignored",
          "traceback": [
            "\u001b[0;31m---------------------------------------------------------------------------\u001b[0m",
            "\u001b[0;31mZeroDivisionError\u001b[0m                         Traceback (most recent call last)",
            "\u001b[0;32m<ipython-input-24-61607cdb3d58>\u001b[0m in \u001b[0;36m<module>\u001b[0;34m()\u001b[0m\n\u001b[1;32m      6\u001b[0m     \u001b[0;31m# calculate moments of binary image\u001b[0m\u001b[0;34m\u001b[0m\u001b[0;34m\u001b[0m\u001b[0;34m\u001b[0m\u001b[0m\n\u001b[1;32m      7\u001b[0m     \u001b[0mM\u001b[0m \u001b[0;34m=\u001b[0m \u001b[0mcv2\u001b[0m\u001b[0;34m.\u001b[0m\u001b[0mmoments\u001b[0m\u001b[0;34m(\u001b[0m\u001b[0mthresh1\u001b[0m\u001b[0;34m)\u001b[0m\u001b[0;34m\u001b[0m\u001b[0;34m\u001b[0m\u001b[0m\n\u001b[0;32m----> 8\u001b[0;31m     \u001b[0mcX\u001b[0m \u001b[0;34m=\u001b[0m \u001b[0mint\u001b[0m\u001b[0;34m(\u001b[0m\u001b[0mM\u001b[0m\u001b[0;34m[\u001b[0m\u001b[0;34m\"m10\"\u001b[0m\u001b[0;34m]\u001b[0m \u001b[0;34m/\u001b[0m \u001b[0mM\u001b[0m\u001b[0;34m[\u001b[0m\u001b[0;34m\"m00\"\u001b[0m\u001b[0;34m]\u001b[0m\u001b[0;34m)\u001b[0m\u001b[0;34m\u001b[0m\u001b[0;34m\u001b[0m\u001b[0m\n\u001b[0m\u001b[1;32m      9\u001b[0m     \u001b[0mcY\u001b[0m \u001b[0;34m=\u001b[0m \u001b[0mint\u001b[0m\u001b[0;34m(\u001b[0m\u001b[0mM\u001b[0m\u001b[0;34m[\u001b[0m\u001b[0;34m\"m01\"\u001b[0m\u001b[0;34m]\u001b[0m \u001b[0;34m/\u001b[0m \u001b[0mM\u001b[0m\u001b[0;34m[\u001b[0m\u001b[0;34m\"m00\"\u001b[0m\u001b[0;34m]\u001b[0m\u001b[0;34m)\u001b[0m\u001b[0;34m\u001b[0m\u001b[0;34m\u001b[0m\u001b[0m\n\u001b[1;32m     10\u001b[0m     \u001b[0;34m(\u001b[0m\u001b[0mcX\u001b[0m\u001b[0;34m,\u001b[0m\u001b[0mcY\u001b[0m\u001b[0;34m)\u001b[0m\u001b[0;34m\u001b[0m\u001b[0;34m\u001b[0m\u001b[0m\n",
            "\u001b[0;31mZeroDivisionError\u001b[0m: float division by zero"
          ]
        }
      ]
    },
    {
      "cell_type": "code",
      "metadata": {
        "id": "BREM3cnMWb8M",
        "colab_type": "code",
        "colab": {}
      },
      "source": [
        "train_features1,train_features2,train_features3=extract_features(train_dir,14)"
      ],
      "execution_count": 0,
      "outputs": []
    },
    {
      "cell_type": "code",
      "metadata": {
        "id": "eUKBgDm0U_9R",
        "colab_type": "code",
        "colab": {}
      },
      "source": [
        "gray_image = cv2.cvtColor(X, cv2.COLOR_BGR2GRAY)\n",
        "ret,thresh1 = cv2.threshold(gray_image,160,255,cv2.THRESH_BINARY)\n",
        "# calculate moments of binary image\n",
        "M = cv2.moments(thresh1)\n",
        " \n",
        "# calculate x,y coordinate of center\n",
        "cX = int(M[\"m10\"] / M[\"m00\"])\n",
        "cY = int(M[\"m01\"] / M[\"m00\"])\n",
        "plt.imshow(u)\n",
        "plt.show\n",
        "(cX,cY)\n",
        "y_t=X[int(cY-250):int(cY+250),int(cX-250):int(cX+250)]\n"
      ],
      "execution_count": 0,
      "outputs": []
    },
    {
      "cell_type": "code",
      "metadata": {
        "id": "D57tGpPtTWER",
        "colab_type": "code",
        "colab": {}
      },
      "source": [
        "base_model = VGG16(weights='imagenet')\n",
        "model1 = Model(inputs=base_model.input, outputs=base_model.get_layer('block3_pool').output)\n",
        "model2=Model(inputs=base_model.input, outputs=base_model.get_layer('block4_pool').output)\n",
        "model3=Model(inputs=base_model.input, outputs=base_model.get_layer('block5_pool').output)"
      ],
      "execution_count": 0,
      "outputs": []
    },
    {
      "cell_type": "code",
      "metadata": {
        "id": "CfpTeli1ZPkc",
        "colab_type": "code",
        "colab": {}
      },
      "source": [
        "t_1 = model1.predict(X)\n",
        "t_2 = model2.predict(X)\n",
        "t_3 = model3.predict(X)\n"
      ],
      "execution_count": 0,
      "outputs": []
    },
    {
      "cell_type": "code",
      "metadata": {
        "id": "6_V0cvdjTVw8",
        "colab_type": "code",
        "colab": {}
      },
      "source": [
        "from keras import layers\n",
        "from keras import backend\n",
        "f_input1 = Input(shape=(256, 256, 1,))\n",
        "f_input2 = Input(shape=(256, 256, 1,))\n",
        "f_input2 = Input(shape=(256, 256, 1,))\n",
        "\n",
        "x=layers.Conv2DTranspose(256, 4, strides=2, padding='same')(f_input1)\n",
        "x=layers.convolutional.Cropping2D(cropping=((0, 0), (0, 0)), dim_ordering='default')(x)\n",
        "x=layers.Dense(128, name='dense', activation='relu')(x)\n",
        "x=backend.resize_images(x, 0.25, 0.25,\"channels_last\", interpolation='nearest')\n",
        "\n",
        "y=layers.Conv2DTranspose(256, 4, strides=2, padding='same')(f_input2)\n",
        "y=layers.convolutional.Cropping2D(cropping=((0, 0), (0, 0)), dim_ordering='default')(y)\n",
        "y=layers.Dense(128, name='dense', activation='relu')(y)\n",
        "y=backend.resize_images(y, 0.5, 0.5,\"channels_last\", interpolation='nearest')\n",
        "\n",
        "z=layers.Conv2DTranspose(256, 4, strides=2, padding='same')(f_input3)\n",
        "z=layers.convolutional.Cropping2D(cropping=((0, 0), (0, 0)), dim_ordering='default')(z)\n",
        "z=layers.Dense(128, name='dense', activation='relu')(z)\n",
        "\n",
        "merge_x=layers.concatenate([x, y,z], axis=-1)\n",
        "x= layers.Dense(1,activation='sigmoid')(merge_x)\n",
        "from keras import optimizers\n",
        "model=Model(inputs=[ef_input1, f_input2,f_input3], outputs=x)\n",
        "model.compile(optimizer=optimizers.AdamOptimizer(), \n",
        "              loss='sparse_categorical_crossentropy',\n",
        "              metrics=['accuracy'])\n",
        "model.fit(t_1,t_2,t_3, y_t, epochs=10,batch_size=20)"
      ],
      "execution_count": 0,
      "outputs": []
    },
    {
      "cell_type": "markdown",
      "metadata": {
        "id": "d7MMhjEOavDN",
        "colab_type": "text"
      },
      "source": [
        "test"
      ]
    },
    {
      "cell_type": "code",
      "metadata": {
        "id": "MJmXM2ItTVuq",
        "colab_type": "code",
        "colab": {}
      },
      "source": [
        "test_image='/conent/drive/My Drive/rigam'\n",
        "datagen=ImageDataGenerator(rescale=1./255)\n",
        "batch_size=20\n",
        "test_generator=datagen.flow_from_directory(test_image,target_size=(150,150),batch_size=batch_size,class_mode='binary')\n",
        "test_1 = model1.predict(X)\n",
        "test_2 = model2.predict(X)\n",
        "test_3 = model3.predict(X)"
      ],
      "execution_count": 0,
      "outputs": []
    },
    {
      "cell_type": "code",
      "metadata": {
        "id": "38iujNnNTVsZ",
        "colab_type": "code",
        "colab": {}
      },
      "source": [
        "output = model.predict([test_1, test_2,test_3])"
      ],
      "execution_count": 0,
      "outputs": []
    }
  ]
}