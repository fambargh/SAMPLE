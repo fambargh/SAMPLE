{
  "nbformat": 4,
  "nbformat_minor": 0,
  "metadata": {
    "colab": {
      "name": "Untitled65.ipynb",
      "version": "0.3.2",
      "provenance": [],
      "include_colab_link": true
    },
    "kernelspec": {
      "name": "python3",
      "display_name": "Python 3"
    },
    "accelerator": "GPU"
  },
  "cells": [
    {
      "cell_type": "markdown",
      "metadata": {
        "id": "view-in-github",
        "colab_type": "text"
      },
      "source": [
        "<a href=\"https://colab.research.google.com/github/fambargh/SAMPLE/blob/master/Untitled65.ipynb\" target=\"_parent\"><img src=\"https://colab.research.google.com/assets/colab-badge.svg\" alt=\"Open In Colab\"/></a>"
      ]
    },
    {
      "cell_type": "code",
      "metadata": {
        "id": "Fv35UbeOhZyP",
        "colab_type": "code",
        "colab": {}
      },
      "source": [
        "from google.colab import drive\n",
        "drive.mount('/content/drive',force_remount=True)"
      ],
      "execution_count": 0,
      "outputs": []
    },
    {
      "cell_type": "code",
      "metadata": {
        "id": "JzANn7TSjjJ2",
        "colab_type": "code",
        "colab": {}
      },
      "source": [
        "s='/content/drive/My Drive/me/train'\n",
        "d='/content/drive/My Drive/me/tet'\n",
        "f='/content/drive/My Drive/me/validation'"
      ],
      "execution_count": 0,
      "outputs": []
    },
    {
      "cell_type": "code",
      "metadata": {
        "id": "k_-yJKHijjHU",
        "colab_type": "code",
        "colab": {}
      },
      "source": [
        "# IMPORT MODULES\n",
        "import sys\n",
        "from os.path import join\n",
        "import numpy as np # linear algebra\n",
        "import pandas as pd # data processing, CSV file I/O (e.g. pd.read_csv)\n",
        "import matplotlib.pyplot as plt\n",
        "\n",
        "import tensorflow as tf\n",
        "from tensorflow.python.keras.applications.resnet50 import preprocess_input\n",
        "from tensorflow.python.keras.preprocessing.image import load_img, img_to_array\n",
        "#from tensorflow.python.keras.applications import ResNet50\n",
        "\n",
        "from keras import models, regularizers, layers, optimizers, losses, metrics\n",
        "from keras.models import Sequential\n",
        "from keras.layers import Dense\n",
        "from keras.utils import np_utils, to_categorical\n",
        "from keras.preprocessing.image import ImageDataGenerator\n",
        "from keras.preprocessing import image\n",
        "from keras.applications import ResNet50\n",
        "\n",
        "import os\n",
        "#print(os.listdir(\"../input\"))"
      ],
      "execution_count": 0,
      "outputs": []
    },
    {
      "cell_type": "code",
      "metadata": {
        "id": "KRdkmmnrjjFJ",
        "colab_type": "code",
        "colab": {}
      },
      "source": [
        "PATH = \"/content/drive/My Drive/me/\"\n",
        "print(os.listdir(PATH))"
      ],
      "execution_count": 0,
      "outputs": []
    },
    {
      "cell_type": "code",
      "metadata": {
        "id": "vxTgMdhujjCT",
        "colab_type": "code",
        "colab": {}
      },
      "source": [
        "# Check content of the dirs\n",
        "\n",
        "PATHtrain = PATH + 'train/'\n",
        "print(len(os.listdir(PATHtrain)), \" TRAIN Directories of photos\")\n",
        "Labels = os.listdir(PATHtrain)\n",
        "sig = 0\n",
        "for label in sorted(Labels):\n",
        "    print(label,len(os.listdir(PATHtrain + label +'/')))\n",
        "    sig = sig + len(os.listdir(PATHtrain + label +'/'))\n",
        "\n",
        "print(\"Total TRAIN photos \", sig)\n",
        "print(\"_\"*50)\n",
        "\n",
        "PATHvalid = PATH + 'validation/'\n",
        "print(len(os.listdir(PATHvalid)), \" VALID Directories of photos\")\n",
        "Labels = os.listdir(PATHvalid)\n",
        "sig = 0\n",
        "for label in sorted(Labels):\n",
        "    print(label,len(os.listdir(PATHvalid + label +'/')))\n",
        "    sig = sig + len(os.listdir(PATHvalid + label +'/'))\n",
        "\n",
        "print(\"Total Validation photos \", sig)\n",
        "print(\"_\"*50)\n",
        "\n",
        "PATHtest = PATH + 'test/'\n",
        "print(len(os.listdir(PATHtest)), \" TEST Directories of photos\")\n",
        "Labels = os.listdir(PATHtest)\n",
        "sig = 0\n",
        "for label in sorted(Labels):\n",
        "    print(label,len(os.listdir(PATHtest + label +'/')))\n",
        "    sig = sig + len(os.listdir(PATHtest + label +'/'))\n",
        "\n",
        "print(\"Total Testing photos \", sig)\n",
        "print(\"_\"*50)"
      ],
      "execution_count": 0,
      "outputs": []
    },
    {
      "cell_type": "code",
      "metadata": {
        "id": "1i7cj97cjjAM",
        "colab_type": "code",
        "colab": {}
      },
      "source": [
        "# Check the photos and their labels \n",
        "\n",
        "TestNum = 7\n",
        "diag = 'glaucoma'\n",
        "\n",
        "image_dir = PATHtrain +'/'+diag+'/'\n",
        "img_name = os.listdir(image_dir)[TestNum]\n",
        "img_path = image_dir+str(img_name)\n",
        "img = image.load_img(img_path, target_size=(224, 224))\n",
        "imgplot = plt.imshow(img)\n",
        "print(\"TRAIN \",diag,\" photo number \", TestNum)\n",
        "plt.show()\n",
        "\n",
        "image_dir = PATHvalid +'/'+diag+'/'\n",
        "img_name = os.listdir(image_dir)[TestNum]\n",
        "img_path = image_dir+str(img_name)\n",
        "img = image.load_img(img_path, target_size=(224, 224))\n",
        "imgplot = plt.imshow(img)\n",
        "print(\"VALID \",diag,\" photo number \", TestNum)\n",
        "plt.show()\n",
        "\n",
        "image_dir = PATHtest +'/'+diag+'/'\n",
        "img_name = os.listdir(image_dir)[TestNum]\n",
        "img_path = image_dir+str(img_name)\n",
        "img = image.load_img(img_path, target_size=(224, 224))\n",
        "imgplot = plt.imshow(img)\n",
        "print(\"TEST \",diag,\" photo number \", TestNum)\n",
        "plt.show()\n"
      ],
      "execution_count": 0,
      "outputs": []
    },
    {
      "cell_type": "code",
      "metadata": {
        "id": "RHfDLVfUji-F",
        "colab_type": "code",
        "colab": {}
      },
      "source": [
        "# Convoluted Base MODEL\n",
        "\n",
        "conv_base = ResNet50(weights='imagenet',\n",
        "include_top=False,\n",
        "input_shape=(224, 224, 3))\n",
        "\n",
        "print(conv_base.summary())"
      ],
      "execution_count": 0,
      "outputs": []
    },
    {
      "cell_type": "code",
      "metadata": {
        "id": "K_IsHqmFji7v",
        "colab_type": "code",
        "colab": {}
      },
      "source": [
        "# MODEL\n",
        "\n",
        "model = models.Sequential()\n",
        "model.add(conv_base)\n",
        "model.add(layers.Flatten())\n",
        "model.add(layers.Dropout(0.5))\n",
        "model.add(layers.Dense(64, activation='relu',kernel_regularizer=regularizers.l2(0.001)))\n",
        "model.add(layers.Dropout(0.5))\n",
        "model.add(layers.Dense(2, activation='sigmoid'))\n",
        "\n",
        "print(model.summary())"
      ],
      "execution_count": 0,
      "outputs": []
    },
    {
      "cell_type": "code",
      "metadata": {
        "id": "Xny34benji5Q",
        "colab_type": "code",
        "colab": {}
      },
      "source": [
        "# Make the conv_base NOT trainable:\n",
        "\n",
        "for layer in conv_base.layers[:]:\n",
        "   layer.trainable = False\n",
        "\n",
        "print('conv_base is now NOT trainable')"
      ],
      "execution_count": 0,
      "outputs": []
    },
    {
      "cell_type": "code",
      "metadata": {
        "id": "1Yx3Yraoji3P",
        "colab_type": "code",
        "colab": {}
      },
      "source": [
        "for i, layer in enumerate(conv_base.layers):\n",
        "   print(i, layer.name, layer.trainable)"
      ],
      "execution_count": 0,
      "outputs": []
    },
    {
      "cell_type": "code",
      "metadata": {
        "id": "U8EyFi5jji0v",
        "colab_type": "code",
        "colab": {}
      },
      "source": [
        "# Compile frozen conv_base + my top layer\n",
        "\n",
        "model.compile(optimizer=optimizers.Adam(),\n",
        "              loss='binary_crossentropy',\n",
        "              metrics=['accuracy'])\n",
        "\n",
        "print(\"model compiled\")\n",
        "print(model.summary())"
      ],
      "execution_count": 0,
      "outputs": []
    },
    {
      "cell_type": "code",
      "metadata": {
        "id": "hnOeJvfcjiyZ",
        "colab_type": "code",
        "colab": {}
      },
      "source": [
        "# Prep the Train Valid and Test directories for the generator\n",
        "\n",
        "train_dir = PATHtrain\n",
        "validation_dir = PATHvalid\n",
        "test_dir = PATHtest\n",
        "batch_size = 20\n",
        "target_size=(224, 224)\n",
        "\n",
        "#train_datagen = ImageDataGenerator(rescale=1./255)\n",
        "train_datagen = ImageDataGenerator(rescale=1./255,\n",
        "                                   rotation_range=40,\n",
        "                                   width_shift_range=0.2,\n",
        "                                   height_shift_range=0.2,\n",
        "                                   shear_range=0.2,\n",
        "                                   zoom_range=0.2,\n",
        "                                   horizontal_flip=True,\n",
        "                                   vertical_flip=True,\n",
        "                                   fill_mode='nearest')\n",
        "\n",
        "test_datagen = ImageDataGenerator(rescale=1./255)\n",
        "\n",
        "train_generator = train_datagen.flow_from_directory(\n",
        "    train_dir,target_size=target_size,batch_size=batch_size)\n",
        "validation_generator = test_datagen.flow_from_directory(\n",
        "    validation_dir,target_size=target_size,batch_size=batch_size)\n",
        "test_generator = test_datagen.flow_from_directory(\n",
        "    test_dir,target_size=target_size,batch_size=batch_size)"
      ],
      "execution_count": 0,
      "outputs": []
    },
    {
      "cell_type": "code",
      "metadata": {
        "id": "ZfNaCJc9kcvA",
        "colab_type": "code",
        "colab": {}
      },
      "source": [
        "print(train_generator.class_indices)\n",
        "print(validation_generator.class_indices)\n",
        "print(test_generator.class_indices)"
      ],
      "execution_count": 0,
      "outputs": []
    },
    {
      "cell_type": "markdown",
      "metadata": {
        "id": "ll2PF-VUkl5d",
        "colab_type": "text"
      },
      "source": [
        "It’s necessary to freeze the convolution base of the conv base in order to be able to train a randomly initialized classifier on top. For the same reason, it’s only possible to fine-tune the top layers of the convolutional base once the classifier on top has already been trained. If the classifier isn’t already trained, then the error signal propagating through the network during training will be too large, and the representations previously learned by the layers being fine-tuned will be destroyed\n",
        "\n",
        "Below, first train with no limit to lr - with conv_base frozen - only my top layers\n",
        "\n",
        "Then, unfreeze last model conv block , recompile and train all with LOW lr=1e-5"
      ]
    },
    {
      "cell_type": "code",
      "metadata": {
        "id": "UqWgki8ekcss",
        "colab_type": "code",
        "colab": {}
      },
      "source": [
        "# Short training ONLY my top layers \n",
        "#... so the conv_base weights will not be destroyed by the random intialization of the new weights\n",
        "\n",
        "history = model.fit_generator(train_generator,\n",
        "                              epochs=3,\n",
        "                              steps_per_epoch = 10682 // batch_size,\n",
        "                              validation_data = validation_generator,\n",
        "                              validation_steps = 3562 // batch_size)"
      ],
      "execution_count": 0,
      "outputs": []
    },
    {
      "cell_type": "code",
      "metadata": {
        "id": "fEgIpobxkcqX",
        "colab_type": "code",
        "colab": {}
      },
      "source": [
        "# Make last block of the conv_base trainable:\n",
        "\n",
        "for layer in conv_base.layers[:165]:\n",
        "   layer.trainable = False\n",
        "for layer in conv_base.layers[165:]:\n",
        "   layer.trainable = True\n",
        "\n",
        "print('Last block of the conv_base is now trainable')"
      ],
      "execution_count": 0,
      "outputs": []
    },
    {
      "cell_type": "code",
      "metadata": {
        "id": "HC6es-sCkyYT",
        "colab_type": "code",
        "colab": {}
      },
      "source": [
        "for i, layer in enumerate(conv_base.layers):\n",
        "   print(i, layer.name, layer.trainable)"
      ],
      "execution_count": 0,
      "outputs": []
    },
    {
      "cell_type": "code",
      "metadata": {
        "id": "rrYMoaYZkyV_",
        "colab_type": "code",
        "colab": {}
      },
      "source": [
        "# Compile frozen conv_base + UNfrozen top block + my top layer ... SLOW LR\n",
        "\n",
        "model.compile(optimizer=optimizers.Adam(lr=1e-5),\n",
        "              loss='binary_crossentropy',\n",
        "              metrics=['accuracy'])\n",
        "\n",
        "print(\"model compiled\")\n",
        "print(model.summary())"
      ],
      "execution_count": 0,
      "outputs": []
    },
    {
      "cell_type": "code",
      "metadata": {
        "id": "y7sAuqX8kyNx",
        "colab_type": "code",
        "colab": {}
      },
      "source": [
        "# Long training with fine tuning\n",
        "\n",
        "history = model.fit_generator(train_generator,\n",
        "                              epochs=5,\n",
        "                              steps_per_epoch = 10682 // batch_size,\n",
        "                              validation_data = validation_generator,\n",
        "                              validation_steps = 3562 // batch_size)"
      ],
      "execution_count": 0,
      "outputs": []
    },
    {
      "cell_type": "code",
      "metadata": {
        "id": "sR3Ehjrsk-Nd",
        "colab_type": "code",
        "colab": {}
      },
      "source": [
        "acc = history.history['acc']\n",
        "val_acc = history.history['val_acc']\n",
        "loss = history.history['loss']\n",
        "val_loss = history.history['val_loss']\n",
        "epochs = range(1, len(acc) + 1)\n",
        "plt.plot(epochs, acc, 'bo', label='Training acc')\n",
        "plt.plot(epochs, val_acc, 'r', label='Validation acc')\n",
        "plt.title('Training and validation accuracy')\n",
        "plt.legend()\n",
        "plt.figure()\n",
        "plt.plot(epochs, loss, 'bo', label='Training loss')\n",
        "plt.plot(epochs, val_loss, 'r', label='Validation loss')\n",
        "plt.title('Training and validation loss')\n",
        "plt.legend()\n",
        "plt.show()"
      ],
      "execution_count": 0,
      "outputs": []
    },
    {
      "cell_type": "code",
      "metadata": {
        "id": "mL2xL9XMk9-3",
        "colab_type": "code",
        "colab": {}
      },
      "source": [
        "test_loss, test_acc = model.evaluate_generator(test_generator, steps= 3561 // batch_size, verbose=1)\n",
        "print('test acc:', test_acc)"
      ],
      "execution_count": 0,
      "outputs": []
    },
    {
      "cell_type": "code",
      "metadata": {
        "id": "X3JmInvsk92D",
        "colab_type": "code",
        "colab": {}
      },
      "source": [
        "from keras.models import load_model\n",
        "# SAVE or LOAD model (Keras - all batteries included: architecture, weights, optimizer, last status in training, etc.)\n",
        "# YOU supply this model.h5 file from previous training session(s) - expected as a data source by Kaggle\n",
        "\n",
        "# SAVE model\n",
        "model.save('MelanomaResNet50FineTune.h5')\n",
        "print(\"MelanomaResNet50FineTune.h5 was saved\")\n",
        "\n",
        "# LOAD model\n",
        "#del model\n",
        "#model = load_model('../input/weather-v9/modelWeatherV10.h5')\n",
        "#print(\"modelWeatherV10.h5 was loaded\")"
      ],
      "execution_count": 0,
      "outputs": []
    },
    {
      "cell_type": "code",
      "metadata": {
        "id": "95zGnU7XlGT_",
        "colab_type": "code",
        "colab": {}
      },
      "source": [
        "g='/content/drive/My Drive/Untitled folder'"
      ],
      "execution_count": 0,
      "outputs": []
    },
    {
      "cell_type": "code",
      "metadata": {
        "id": "i1etxaTBlGQI",
        "colab_type": "code",
        "colab": {}
      },
      "source": [
        "model = load_model('MelanomaResNet50FineTune.h5')"
      ],
      "execution_count": 0,
      "outputs": []
    },
    {
      "cell_type": "code",
      "metadata": {
        "id": "KjXpL5aKlOT5",
        "colab_type": "code",
        "colab": {}
      },
      "source": [
        "from keras.preprocessing.image import ImageDataGenerator\n",
        "datagen = ImageDataGenerator(rescale=1./255)\n",
        "batch_size = 10\n",
        "generator = datagen.flow_from_directory(g,target_size=(224, 224),batch_size=batch_size,class_mode='binary')\n",
        "features_batch = model.predict(generator)"
      ],
      "execution_count": 0,
      "outputs": []
    },
    {
      "cell_type": "code",
      "metadata": {
        "id": "x3ppt1M8lORY",
        "colab_type": "code",
        "colab": {}
      },
      "source": [
        "print(features_batch.shape)"
      ],
      "execution_count": 0,
      "outputs": []
    },
    {
      "cell_type": "code",
      "metadata": {
        "id": "lephexUulOPN",
        "colab_type": "code",
        "colab": {}
      },
      "source": [
        "import os\n",
        "import matplotlib\n",
        "import matplotlib.pyplot as plt\n",
        "from matplotlib.offsetbox import OffsetImage, AnnotationBbox\n",
        "import cv2\n",
        "import numpy as np\n",
        "from glob import glob\n",
        "import matplotlib.cm as cm\n",
        "from sklearn.decomposition import PCA\n",
        "from sklearn.manifold import TSNE\n",
        "from sklearn.preprocessing import StandardScaler"
      ],
      "execution_count": 0,
      "outputs": []
    },
    {
      "cell_type": "code",
      "metadata": {
        "id": "XPkZi8w-lYK3",
        "colab_type": "code",
        "colab": {}
      },
      "source": [
        "def visualize_scatter(data_2d, label_ids, figsize=(20,20)):\n",
        "    plt.figure(figsize=figsize)\n",
        "    plt.grid()\n",
        "    \n",
        "    nb_classes = len(np.unique(label_ids))\n",
        "    \n",
        "    for label_id in np.unique(label_ids):\n",
        "        plt.scatter(data_2d[np.where(label_ids == label_id), 0],\n",
        "                    data_2d[np.where(label_ids == label_id), 1],\n",
        "                    marker='o',\n",
        "                    color= plt.cm.Set1(label_id / float(nb_classes)),\n",
        "                    linewidth='1',\n",
        "                    alpha=0.8,\n",
        "                    label=id_to_label_dict[label_id])\n",
        "    plt.legend(loc='best')"
      ],
      "execution_count": 0,
      "outputs": []
    },
    {
      "cell_type": "code",
      "metadata": {
        "id": "1fPYSttnlYIc",
        "colab_type": "code",
        "colab": {}
      },
      "source": [
        "filenames='/content/drive/My Drive/Untitled folder/Untitled folder'"
      ],
      "execution_count": 0,
      "outputs": []
    },
    {
      "cell_type": "code",
      "metadata": {
        "id": "tD8zQysqlfHr",
        "colab_type": "code",
        "colab": {}
      },
      "source": [
        "from numpy import zeros\n",
        "from numpy import asarray\n",
        "labels = zeros(9,)\n",
        "#for filename in filenames:\n",
        "  #categories.append(1)\n",
        "        \n",
        "#labels=asarray(categories)"
      ],
      "execution_count": 0,
      "outputs": []
    },
    {
      "cell_type": "code",
      "metadata": {
        "id": "DrOnAnL9lfFU",
        "colab_type": "code",
        "colab": {}
      },
      "source": [
        "print(labels.shape)"
      ],
      "execution_count": 0,
      "outputs": []
    },
    {
      "cell_type": "code",
      "metadata": {
        "id": "Xmh9KmSllfBE",
        "colab_type": "code",
        "colab": {}
      },
      "source": [
        "label_to_id_dict = {v:i for i,v in enumerate(np.unique(labels))}\n",
        "id_to_label_dict = {v: k for k, v in label_to_id_dict.items()}\n"
      ],
      "execution_count": 0,
      "outputs": []
    },
    {
      "cell_type": "code",
      "metadata": {
        "id": "zTpI-QeyloxY",
        "colab_type": "code",
        "colab": {}
      },
      "source": [
        "label_ids = np.array([label_to_id_dict[x] for x in labels])"
      ],
      "execution_count": 0,
      "outputs": []
    },
    {
      "cell_type": "code",
      "metadata": {
        "id": "2TwdN3OLlolS",
        "colab_type": "code",
        "colab": {}
      },
      "source": [
        "pca = PCA(n_components=2)\n",
        "pca_result = pca.fit_transform(features_batch)"
      ],
      "execution_count": 0,
      "outputs": []
    },
    {
      "cell_type": "code",
      "metadata": {
        "id": "2AswI-Holt6q",
        "colab_type": "code",
        "colab": {}
      },
      "source": [
        "pca_result.shape"
      ],
      "execution_count": 0,
      "outputs": []
    },
    {
      "cell_type": "code",
      "metadata": {
        "id": "uyIAYM4clt4I",
        "colab_type": "code",
        "colab": {}
      },
      "source": [
        "tsne = TSNE(n_components=2, perplexity=40.0)"
      ],
      "execution_count": 0,
      "outputs": []
    },
    {
      "cell_type": "code",
      "metadata": {
        "id": "ASaO3mljlt1y",
        "colab_type": "code",
        "colab": {}
      },
      "source": [
        "tsne_result = tsne.fit_transform(pca_result)\n"
      ],
      "execution_count": 0,
      "outputs": []
    },
    {
      "cell_type": "code",
      "metadata": {
        "id": "YGBCpek9l0Ch",
        "colab_type": "code",
        "colab": {}
      },
      "source": [
        "tsne_result_scaled = StandardScaler().fit_transform(tsne_result)\n"
      ],
      "execution_count": 0,
      "outputs": []
    },
    {
      "cell_type": "code",
      "metadata": {
        "id": "WvQhx5sHl0AK",
        "colab_type": "code",
        "colab": {}
      },
      "source": [
        "visualize_scatter(tsne_result_scaled, labels)\n"
      ],
      "execution_count": 0,
      "outputs": []
    },
    {
      "cell_type": "code",
      "metadata": {
        "id": "rN1P4RvJlz-H",
        "colab_type": "code",
        "colab": {}
      },
      "source": [
        "tsne = TSNE(n_components=3)\n",
        "tsne_result = tsne.fit_transform(pca_result)\n",
        "tsne_result_scaled = StandardScaler().fit_transform(tsne_result)\n",
        "from mpl_toolkits.mplot3d import Axes3D\n",
        "from matplotlib import animation"
      ],
      "execution_count": 0,
      "outputs": []
    },
    {
      "cell_type": "code",
      "metadata": {
        "id": "v9IMUsgsl8eV",
        "colab_type": "code",
        "colab": {}
      },
      "source": [
        "fig = plt.figure(figsize=(25,25))\n",
        "ax = fig.add_subplot(111,projection='3d')\n",
        "\n",
        "plt.grid()\n",
        "    \n",
        "nb_classes = len(np.unique(label_ids))\n",
        "    \n",
        "for label_id in np.unique(label_ids):\n",
        "    ax.scatter(tsne_result_scaled[np.where(label_ids == label_id), 0],\n",
        "                tsne_result_scaled[np.where(label_ids == label_id), 1],\n",
        "                tsne_result_scaled[np.where(label_ids == label_id), 2],\n",
        "                alpha=0.8,\n",
        "                color= plt.cm.Set1(label_id / float(nb_classes)),\n",
        "                marker='o',\n",
        "                label=id_to_label_dict[label_id])\n",
        "ax.legend(loc='best')\n",
        "ax.view_init(25, 45)\n",
        "ax.set_xlim(-2.5, 2.5)\n",
        "ax.set_ylim(-2.5, 2.5)\n",
        "ax.set_zlim(-2.5, 2.5)"
      ],
      "execution_count": 0,
      "outputs": []
    },
    {
      "cell_type": "code",
      "metadata": {
        "id": "aHEOSEy9l8cJ",
        "colab_type": "code",
        "colab": {}
      },
      "source": [
        "anim = animation.FuncAnimation(fig, lambda frame_number: ax.view_init(30, 4 * frame_number), interval=75, frames=90)"
      ],
      "execution_count": 0,
      "outputs": []
    },
    {
      "cell_type": "code",
      "metadata": {
        "id": "g_ROjrfql8Zb",
        "colab_type": "code",
        "colab": {}
      },
      "source": [
        "plot_3d_animation_filename = 'animation.gif'\n",
        "anim.save(plot_3d_animation_filename, writer='imagemagick')"
      ],
      "execution_count": 0,
      "outputs": []
    },
    {
      "cell_type": "code",
      "metadata": {
        "id": "S4phHc64mLNe",
        "colab_type": "code",
        "colab": {}
      },
      "source": [
        "import io\n",
        "import base64\n",
        "from IPython.display import HTML\n",
        "\n",
        "video = io.open(plot_3d_animation_filename, 'r+b').read()"
      ],
      "execution_count": 0,
      "outputs": []
    },
    {
      "cell_type": "code",
      "metadata": {
        "id": "HI81qfaxmLEr",
        "colab_type": "code",
        "colab": {}
      },
      "source": [
        "HTML(data='''<img src=\"data:image/gif;base64,{0}\" type=\"gif\" />'''.format(base64.b64encode(video).decode('ascii')))"
      ],
      "execution_count": 0,
      "outputs": []
    },
    {
      "cell_type": "code",
      "metadata": {
        "id": "UeLFwz9xrQHo",
        "colab_type": "code",
        "colab": {}
      },
      "source": [
        "from google.colab import files\n",
        "files.download('animation.gif')"
      ],
      "execution_count": 0,
      "outputs": []
    }
  ]
}