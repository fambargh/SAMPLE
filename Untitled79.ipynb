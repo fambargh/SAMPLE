{
  "nbformat": 4,
  "nbformat_minor": 0,
  "metadata": {
    "colab": {
      "name": "Untitled79.ipynb",
      "provenance": [],
      "include_colab_link": true
    },
    "kernelspec": {
      "name": "python2",
      "display_name": "Python 2"
    },
    "accelerator": "GPU"
  },
  "cells": [
    {
      "cell_type": "markdown",
      "metadata": {
        "id": "view-in-github",
        "colab_type": "text"
      },
      "source": [
        "<a href=\"https://colab.research.google.com/github/fambargh/SAMPLE/blob/master/Untitled79.ipynb\" target=\"_parent\"><img src=\"https://colab.research.google.com/assets/colab-badge.svg\" alt=\"Open In Colab\"/></a>"
      ]
    },
    {
      "cell_type": "code",
      "metadata": {
        "id": "7P2Du3thnmep",
        "colab_type": "code",
        "colab": {
          "base_uri": "https://localhost:8080/",
          "height": 360
        },
        "outputId": "a5cd405e-85b3-4538-bc4e-b5f4afc0f51f"
      },
      "source": [
        "!pip install q keras==2.0.3"
      ],
      "execution_count": 1,
      "outputs": [
        {
          "output_type": "stream",
          "text": [
            "Collecting q\n",
            "  Using cached https://files.pythonhosted.org/packages/53/bc/51619d89e0bd855567e7652fa16d06f1ed36a85f108a7fe71f6629bf719d/q-2.6-py2.py3-none-any.whl\n",
            "Collecting keras==2.0.3\n",
            "  Using cached https://files.pythonhosted.org/packages/1b/36/fc4b247ec139ad9cc6f223ed10729d85401fc5203703c23457794f9bfe60/Keras-2.0.3.tar.gz\n",
            "Requirement already satisfied: theano in /usr/local/lib/python2.7/dist-packages (from keras==2.0.3) (1.0.4)\n",
            "Requirement already satisfied: pyyaml in /usr/local/lib/python2.7/dist-packages (from keras==2.0.3) (3.13)\n",
            "Requirement already satisfied: six in /usr/local/lib/python2.7/dist-packages (from keras==2.0.3) (1.12.0)\n",
            "Requirement already satisfied: numpy>=1.9.1 in /usr/local/lib/python2.7/dist-packages (from theano->keras==2.0.3) (1.16.4)\n",
            "Requirement already satisfied: scipy>=0.14 in /usr/local/lib/python2.7/dist-packages (from theano->keras==2.0.3) (1.2.2)\n",
            "Building wheels for collected packages: keras\n",
            "  Building wheel for keras (setup.py) ... \u001b[?25l\u001b[?25hdone\n",
            "  Created wheel for keras: filename=Keras-2.0.3-cp27-none-any.whl size=232961 sha256=1ad405914effaa7118aba1e3d7e6de8eeaf2b88c8764168faa6b1e732aa5877a\n",
            "  Stored in directory: /root/.cache/pip/wheels/a6/fb/de/faea9e49d563a35f198c6dede7f9260074b5beb8f9bffaaaa1\n",
            "Successfully built keras\n",
            "Installing collected packages: q, keras\n",
            "  Found existing installation: Keras 2.2.4\n",
            "    Uninstalling Keras-2.2.4:\n",
            "      Successfully uninstalled Keras-2.2.4\n",
            "Successfully installed keras-2.0.3 q-2.6\n"
          ],
          "name": "stdout"
        }
      ]
    },
    {
      "cell_type": "code",
      "metadata": {
        "id": "8XDSGMmtnoHX",
        "colab_type": "code",
        "colab": {
          "base_uri": "https://localhost:8080/",
          "height": 68
        },
        "outputId": "c631d5c7-b71d-4b91-a8f1-6f0d995579fd"
      },
      "source": [
        "pip install h5py\n"
      ],
      "execution_count": 3,
      "outputs": [
        {
          "output_type": "stream",
          "text": [
            "Requirement already satisfied: h5py in /usr/local/lib/python2.7/dist-packages (2.8.0)\n",
            "Requirement already satisfied: numpy>=1.7 in /usr/local/lib/python2.7/dist-packages (from h5py) (1.16.4)\n",
            "Requirement already satisfied: six in /usr/local/lib/python2.7/dist-packages (from h5py) (1.12.0)\n"
          ],
          "name": "stdout"
        }
      ]
    },
    {
      "cell_type": "code",
      "metadata": {
        "id": "CUnWwHlcnoE9",
        "colab_type": "code",
        "colab": {}
      },
      "source": [
        "import pandas as pd\n",
        "import matplotlib.pyplot as plt\n",
        "%matplotlib inline\n",
        "from matplotlib import patches"
      ],
      "execution_count": 0,
      "outputs": []
    },
    {
      "cell_type": "code",
      "metadata": {
        "id": "qNfM5V4XnoCf",
        "colab_type": "code",
        "colab": {
          "base_uri": "https://localhost:8080/",
          "height": 34
        },
        "outputId": "c652ee8d-7c17-4df5-b792-9659bd3f37ca"
      },
      "source": [
        "from google.colab import drive\n",
        "drive.mount('/content/drive')\n"
      ],
      "execution_count": 5,
      "outputs": [
        {
          "output_type": "stream",
          "text": [
            "Mounted at /content/drive\n"
          ],
          "name": "stdout"
        }
      ]
    },
    {
      "cell_type": "code",
      "metadata": {
        "id": "JZtmfKBLnoAs",
        "colab_type": "code",
        "colab": {}
      },
      "source": [
        "c='/content/drive/My Drive/fm/blood/train.csv'\n"
      ],
      "execution_count": 0,
      "outputs": []
    },
    {
      "cell_type": "code",
      "metadata": {
        "id": "Xe0B8Hdvnn-D",
        "colab_type": "code",
        "colab": {
          "base_uri": "https://localhost:8080/",
          "height": 204
        },
        "outputId": "a2521c8c-d6b8-4082-bb16-60c5bbbaaca7"
      },
      "source": [
        "train = pd.read_csv(c)\n",
        "train.head()"
      ],
      "execution_count": 7,
      "outputs": [
        {
          "output_type": "execute_result",
          "data": {
            "text/html": [
              "<div>\n",
              "<style scoped>\n",
              "    .dataframe tbody tr th:only-of-type {\n",
              "        vertical-align: middle;\n",
              "    }\n",
              "\n",
              "    .dataframe tbody tr th {\n",
              "        vertical-align: top;\n",
              "    }\n",
              "\n",
              "    .dataframe thead th {\n",
              "        text-align: right;\n",
              "    }\n",
              "</style>\n",
              "<table border=\"1\" class=\"dataframe\">\n",
              "  <thead>\n",
              "    <tr style=\"text-align: right;\">\n",
              "      <th></th>\n",
              "      <th>image_names</th>\n",
              "      <th>cell_type</th>\n",
              "      <th>xmin</th>\n",
              "      <th>xmax</th>\n",
              "      <th>ymin</th>\n",
              "      <th>ymax</th>\n",
              "    </tr>\n",
              "  </thead>\n",
              "  <tbody>\n",
              "    <tr>\n",
              "      <th>0</th>\n",
              "      <td>BloodImage_00111.jpg</td>\n",
              "      <td>RBC</td>\n",
              "      <td>458</td>\n",
              "      <td>571</td>\n",
              "      <td>198</td>\n",
              "      <td>296</td>\n",
              "    </tr>\n",
              "    <tr>\n",
              "      <th>1</th>\n",
              "      <td>BloodImage_00111.jpg</td>\n",
              "      <td>RBC</td>\n",
              "      <td>405</td>\n",
              "      <td>518</td>\n",
              "      <td>240</td>\n",
              "      <td>338</td>\n",
              "    </tr>\n",
              "    <tr>\n",
              "      <th>2</th>\n",
              "      <td>BloodImage_00111.jpg</td>\n",
              "      <td>RBC</td>\n",
              "      <td>365</td>\n",
              "      <td>478</td>\n",
              "      <td>40</td>\n",
              "      <td>138</td>\n",
              "    </tr>\n",
              "    <tr>\n",
              "      <th>3</th>\n",
              "      <td>BloodImage_00111.jpg</td>\n",
              "      <td>RBC</td>\n",
              "      <td>512</td>\n",
              "      <td>630</td>\n",
              "      <td>75</td>\n",
              "      <td>188</td>\n",
              "    </tr>\n",
              "    <tr>\n",
              "      <th>4</th>\n",
              "      <td>BloodImage_00111.jpg</td>\n",
              "      <td>RBC</td>\n",
              "      <td>468</td>\n",
              "      <td>570</td>\n",
              "      <td>71</td>\n",
              "      <td>175</td>\n",
              "    </tr>\n",
              "  </tbody>\n",
              "</table>\n",
              "</div>"
            ],
            "text/plain": [
              "            image_names cell_type  xmin  xmax  ymin  ymax\n",
              "0  BloodImage_00111.jpg       RBC   458   571   198   296\n",
              "1  BloodImage_00111.jpg       RBC   405   518   240   338\n",
              "2  BloodImage_00111.jpg       RBC   365   478    40   138\n",
              "3  BloodImage_00111.jpg       RBC   512   630    75   188\n",
              "4  BloodImage_00111.jpg       RBC   468   570    71   175"
            ]
          },
          "metadata": {
            "tags": []
          },
          "execution_count": 7
        }
      ]
    },
    {
      "cell_type": "code",
      "metadata": {
        "id": "Qcn78p0Snn7t",
        "colab_type": "code",
        "colab": {
          "base_uri": "https://localhost:8080/",
          "height": 54
        },
        "outputId": "ae9a1757-8df5-4332-9019-6e35a63ad23a"
      },
      "source": [
        "from google.colab import drive\n",
        "drive.mount('/content/gdrive')"
      ],
      "execution_count": 22,
      "outputs": [
        {
          "output_type": "stream",
          "text": [
            "Drive already mounted at /content/gdrive; to attempt to forcibly remount, call drive.mount(\"/content/gdrive\", force_remount=True).\n"
          ],
          "name": "stdout"
        }
      ]
    },
    {
      "cell_type": "code",
      "metadata": {
        "id": "Agy3JH_ann5a",
        "colab_type": "code",
        "colab": {
          "base_uri": "https://localhost:8080/",
          "height": 51
        },
        "outputId": "bb89338c-ad7d-4897-cb65-25a42dabd30f"
      },
      "source": [
        "! ls\n"
      ],
      "execution_count": 23,
      "outputs": [
        {
          "output_type": "stream",
          "text": [
            "annotate.txt  LICENSE\t      README.md\t\ttest_frcnn.py\n",
            "keras_frcnn   measure_map.py  requirements.txt\ttrain_frcnn.py\n"
          ],
          "name": "stdout"
        }
      ]
    },
    {
      "cell_type": "code",
      "metadata": {
        "id": "Po4Hv5E1nn3H",
        "colab_type": "code",
        "colab": {
          "base_uri": "https://localhost:8080/",
          "height": 34
        },
        "outputId": "1b3adf0f-c161-4b31-a518-fcc1a7c963c2"
      },
      "source": [
        "%cd gdrive/My Drive/mfm\n"
      ],
      "execution_count": 10,
      "outputs": [
        {
          "output_type": "stream",
          "text": [
            "/content/gdrive/My Drive/mfm\n"
          ],
          "name": "stdout"
        }
      ]
    },
    {
      "cell_type": "code",
      "metadata": {
        "id": "HDzD-qz_nnxZ",
        "colab_type": "code",
        "colab": {
          "base_uri": "https://localhost:8080/",
          "height": 102
        },
        "outputId": "69b7ac46-2e7c-4158-f7d5-105400d055dc"
      },
      "source": [
        "! git clone https://github.com/kbardool/keras-frcnn.git\n"
      ],
      "execution_count": 11,
      "outputs": [
        {
          "output_type": "stream",
          "text": [
            "Cloning into 'keras-frcnn'...\n",
            "remote: Enumerating objects: 589, done.\u001b[K\n",
            "remote: Total 589 (delta 0), reused 0 (delta 0), pack-reused 589\u001b[K\n",
            "Receiving objects: 100% (589/589), 173.38 KiB | 833.00 KiB/s, done.\n",
            "Resolving deltas: 100% (402/402), done.\n"
          ],
          "name": "stdout"
        }
      ]
    },
    {
      "cell_type": "code",
      "metadata": {
        "id": "niz2dnMJoKsR",
        "colab_type": "code",
        "colab": {}
      },
      "source": [
        "data = pd.DataFrame()\n",
        "data['format'] = train['image_names']\n",
        "\n",
        "# as the images are in train_images folder, add train_images before the image name\n",
        "for i in range(data.shape[0]):\n",
        "    data['format'][i] = '/content/gdrive/My Drive/fm/blood/train_images/' + data['format'][i]\n",
        "\n",
        "# add xmin, ymin, xmax, ymax and class as per the format required\n",
        "for i in range(data.shape[0]):\n",
        "    data['format'][i] = data['format'][i] + ',' + str(train['xmin'][i]) + ',' + str(train['ymin'][i]) + ',' + str(train['xmax'][i]) + ',' + str(train['ymax'][i]) + ',' + train['cell_type'][i]\n",
        "\n",
        "data.to_csv('annotate.txt', header=None, index=None, sep=' ')"
      ],
      "execution_count": 0,
      "outputs": []
    },
    {
      "cell_type": "code",
      "metadata": {
        "id": "rqsDN4E5uIOY",
        "colab_type": "code",
        "colab": {
          "base_uri": "https://localhost:8080/",
          "height": 85
        },
        "outputId": "c5633434-e081-4258-de6a-7dcf75619c18"
      },
      "source": [
        "\n",
        "for n in range(1,4):\n",
        "  g=[]\n",
        "  f='/content/gdrive/My Drive/fm/blood/train_images/BloodImage_0011{}.jpg'.format(n)\n",
        "  g=g.append(f)\n",
        "  print(f)\n",
        "print(g)"
      ],
      "execution_count": 42,
      "outputs": [
        {
          "output_type": "stream",
          "text": [
            "/content/gdrive/My Drive/fm/blood/train_images/BloodImage_00111.jpg\n",
            "/content/gdrive/My Drive/fm/blood/train_images/BloodImage_00112.jpg\n",
            "/content/gdrive/My Drive/fm/blood/train_images/BloodImage_00113.jpg\n",
            "None\n"
          ],
          "name": "stdout"
        }
      ]
    },
    {
      "cell_type": "code",
      "metadata": {
        "id": "1S7KBURMoKpu",
        "colab_type": "code",
        "colab": {
          "base_uri": "https://localhost:8080/",
          "height": 153
        },
        "outputId": "eb4f6d5b-8a95-4aad-ad70-199f725df5f4"
      },
      "source": [
        "#%cd keras-frcnn\n",
        "n=[1,2,3]\n",
        "!python train_frcnn.py -o simple -p '/content/gdrive/My Drive/fm/blood/train_images/BloodImage_00111.jpg'"
      ],
      "execution_count": 44,
      "outputs": [
        {
          "output_type": "stream",
          "text": [
            "Using TensorFlow backend.\n",
            "Parsing annotation files\n",
            "Traceback (most recent call last):\n",
            "  File \"train_frcnn.py\", line 79, in <module>\n",
            "    all_imgs, classes_count, class_mapping = get_data(options.train_path)\n",
            "  File \"/content/gdrive/My Drive/mfm/keras-frcnn/keras_frcnn/simple_parser.py\", line 20, in get_data\n",
            "    (filename,x1,y1,x2,y2,class_name) = line_split\n",
            "ValueError: need more than 1 value to unpack\n"
          ],
          "name": "stdout"
        }
      ]
    },
    {
      "cell_type": "code",
      "metadata": {
        "id": "DePGb5VzoKm1",
        "colab_type": "code",
        "colab": {}
      },
      "source": [
        ""
      ],
      "execution_count": 0,
      "outputs": []
    }
  ]
}