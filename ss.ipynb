{
  "nbformat": 4,
  "nbformat_minor": 0,
  "metadata": {
    "colab": {
      "name": "ss.ipynb",
      "version": "0.3.2",
      "provenance": [],
      "include_colab_link": true
    },
    "kernelspec": {
      "name": "python3",
      "display_name": "Python 3"
    },
    "accelerator": "GPU"
  },
  "cells": [
    {
      "cell_type": "markdown",
      "metadata": {
        "id": "view-in-github",
        "colab_type": "text"
      },
      "source": [
        "<a href=\"https://colab.research.google.com/github/fambargh/SAMPLE/blob/master/ss.ipynb\" target=\"_parent\"><img src=\"https://colab.research.google.com/assets/colab-badge.svg\" alt=\"Open In Colab\"/></a>"
      ]
    },
    {
      "cell_type": "code",
      "metadata": {
        "id": "ZjfRw0Hfy9WT",
        "colab_type": "code",
        "outputId": "5109ba6f-d1bf-461f-c8dc-0797240cfe10",
        "colab": {
          "base_uri": "https://localhost:8080/",
          "height": 34
        }
      },
      "source": [
        "from google.colab import drive\n",
        "drive.mount('/content/drive')"
      ],
      "execution_count": 0,
      "outputs": [
        {
          "output_type": "stream",
          "text": [
            "Mounted at /content/drive\n"
          ],
          "name": "stdout"
        }
      ]
    },
    {
      "cell_type": "code",
      "metadata": {
        "id": "Uy0Wmkv21Hx-",
        "colab_type": "code",
        "outputId": "12234235-6210-49d9-f752-66906a4c5213",
        "colab": {
          "resources": {
            "http://localhost:8080/nbextensions/google.colab/files.js": {
              "data": "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",
              "ok": true,
              "headers": [
                [
                  "content-type",
                  "application/javascript"
                ]
              ],
              "status": 200,
              "status_text": ""
            }
          },
          "base_uri": "https://localhost:8080/",
          "height": 74
        }
      },
      "source": [
        "from google.colab import files\n",
        "uploaded = files.upload()"
      ],
      "execution_count": 0,
      "outputs": [
        {
          "output_type": "display_data",
          "data": {
            "text/html": [
              "\n",
              "     <input type=\"file\" id=\"files-e2e87d45-1d9a-49ae-8123-1594ade91607\" name=\"files[]\" multiple disabled />\n",
              "     <output id=\"result-e2e87d45-1d9a-49ae-8123-1594ade91607\">\n",
              "      Upload widget is only available when the cell has been executed in the\n",
              "      current browser session. Please rerun this cell to enable.\n",
              "      </output>\n",
              "      <script src=\"/nbextensions/google.colab/files.js\"></script> "
            ],
            "text/plain": [
              "<IPython.core.display.HTML object>"
            ]
          },
          "metadata": {
            "tags": []
          }
        },
        {
          "output_type": "stream",
          "text": [
            "Saving me.zip to me (2).zip\n"
          ],
          "name": "stdout"
        }
      ]
    },
    {
      "cell_type": "code",
      "metadata": {
        "id": "77XNT8g03Rtn",
        "colab_type": "code",
        "colab": {}
      },
      "source": [
        "import zipfile\n",
        "import io\n",
        "data = zipfile.ZipFile(io.BytesIO(uploaded['me.zip']), 'r')\n",
        "data.extractall()"
      ],
      "execution_count": 0,
      "outputs": []
    },
    {
      "cell_type": "code",
      "metadata": {
        "id": "NCBwH82K5Fn0",
        "colab_type": "code",
        "outputId": "a6accc9f-4a3f-4410-e097-71f07978d9d9",
        "colab": {
          "base_uri": "https://localhost:8080/",
          "height": 1000
        }
      },
      "source": [
        "data.printdir()"
      ],
      "execution_count": 0,
      "outputs": [
        {
          "output_type": "stream",
          "text": [
            "File Name                                             Modified             Size\n",
            "me/                                            2019-06-01 16:55:10            0\n",
            "me/test/                                       2019-06-01 16:55:10            0\n",
            "me/test/glaucoma/                              2019-06-01 19:59:54            0\n",
            "me/test/glaucoma/Im405.jpg                     2011-06-13 10:41:02        21159\n",
            "me/test/glaucoma/Im406.jpg                     2019-06-01 16:54:54        43152\n",
            "me/test/glaucoma/Im407.jpg                     2019-06-01 16:54:54        24612\n",
            "me/test/glaucoma/Im408.jpg                     2019-06-01 16:54:54        36514\n",
            "me/test/glaucoma/Im409.jpg                     2019-06-01 16:54:54        25821\n",
            "me/test/glaucoma/Im410.jpg                     2019-06-01 16:54:54        31434\n",
            "me/test/glaucoma/Im411.jpg                     2019-06-01 16:54:54        25093\n",
            "me/test/glaucoma/Im412.jpg                     2019-06-01 16:54:54        25136\n",
            "me/test/glaucoma/Im413.jpg                     2019-06-01 16:54:54        32824\n",
            "me/test/glaucoma/Im414.jpg                     2019-06-01 16:54:54        36147\n",
            "me/test/glaucoma/Im415.jpg                     2019-06-01 16:54:54        34839\n",
            "me/test/glaucoma/Im416.jpg                     2019-06-01 16:54:54        30593\n",
            "me/test/glaucoma/Im417.jpg                     2019-06-01 16:54:54        32309\n",
            "me/test/glaucoma/Im418.jpg                     2019-06-01 16:54:54        33003\n",
            "me/test/glaucoma/Im419.jpg                     2019-06-01 16:54:54       119050\n",
            "me/test/glaucoma/Im420.jpg                     2019-06-01 16:54:54        34672\n",
            "me/test/glaucoma/Im421.jpg                     2019-06-01 16:54:54        35460\n",
            "me/test/glaucoma/Im422.jpg                     2019-06-01 16:54:54        33379\n",
            "me/test/glaucoma/Im423.jpg                     2019-06-01 16:54:54        34599\n",
            "me/test/glaucoma/Im424.jpg                     2019-06-01 16:54:54        50739\n",
            "me/test/glaucoma/Im425.jpg                     2019-06-01 16:54:54        31626\n",
            "me/test/glaucoma/Im426.jpg                     2019-06-01 16:54:54        25920\n",
            "me/test/glaucoma/Im427.jpg                     2019-06-01 16:54:54        43989\n",
            "me/test/glaucoma/Im428.jpg                     2019-06-01 16:54:54        41496\n",
            "me/test/glaucoma/Im429.jpg                     2019-06-01 16:54:54        32923\n",
            "me/test/glaucoma/Im430.jpg                     2019-06-01 16:54:54        31720\n",
            "me/test/glaucoma/Im431.jpg                     2019-06-01 16:54:54        25343\n",
            "me/test/glaucoma/Im432.jpg                     2019-06-01 16:54:54        25296\n",
            "me/test/glaucoma/Im433.jpg                     2019-06-01 16:54:54        26791\n",
            "me/test/glaucoma/Im434.jpg                     2019-06-01 16:54:54        29856\n",
            "me/test/glaucoma/Im435.jpg                     2019-06-01 16:54:54        32906\n",
            "me/test/glaucoma/Im436.jpg                     2019-06-01 16:54:54        33630\n",
            "me/test/glaucoma/Im437.jpg                     2019-06-01 16:54:54        26509\n",
            "me/test/glaucoma/Im438.jpg                     2019-06-01 16:54:54        20161\n",
            "me/test/glaucoma/Im439.jpg                     2019-06-01 16:54:54        33449\n",
            "me/test/glaucoma/Im440.jpg                     2019-06-01 16:54:54        25972\n",
            "me/test/glaucoma/Im441.jpg                     2019-06-01 16:54:54        38427\n",
            "me/test/glaucoma/Im442.jpg                     2019-06-01 16:54:54        34440\n",
            "me/test/glaucoma/Im443.jpg                     2019-06-01 16:54:54        33797\n",
            "me/test/glaucoma/Im444.jpg                     2019-06-01 16:54:54        37570\n",
            "me/test/glaucoma/Im445.jpg                     2019-06-01 16:54:54        28148\n",
            "me/test/glaucoma/Im446.jpg                     2019-06-01 16:54:54        24702\n",
            "me/test/glaucoma/Im447.jpg                     2019-06-01 16:54:54        34664\n",
            "me/test/glaucoma/Im448.jpg                     2019-06-01 16:54:54        25563\n",
            "me/test/glaucoma/Im449.jpg                     2019-06-01 16:54:54        25306\n",
            "me/test/glaucoma/Im450.jpg                     2019-06-01 16:54:54        36266\n",
            "me/test/glaucoma/Im451.jpg                     2019-06-01 16:54:54        24961\n",
            "me/test/glaucoma/Im452.jpg                     2019-06-01 16:54:54       190055\n",
            "me/test/glaucoma/Im453.jpg                     2019-06-01 16:54:54        17708\n",
            "me/test/glaucoma/Im454.jpg                     2019-06-01 16:54:54        32174\n",
            "me/test/glaucoma/Im455.jpg                     2011-06-13 11:19:52        33032\n",
            "me/test/Normal/                                2019-06-01 19:58:06            0\n",
            "me/test/Normal/Im224.jpg                       2011-06-13 09:43:42        35656\n",
            "me/test/Normal/Im225.jpg                       2011-06-13 09:44:04        33266\n",
            "me/test/Normal/Im226.jpg                       2019-06-01 16:54:54        27706\n",
            "me/test/Normal/Im227.jpg                       2019-06-01 16:54:54        23657\n",
            "me/test/Normal/Im228.jpg                       2019-06-01 16:54:54        25909\n",
            "me/test/Normal/Im229.jpg                       2019-06-01 16:54:54        23509\n",
            "me/test/Normal/Im230.jpg                       2019-06-01 16:54:54        26852\n",
            "me/test/Normal/Im231.jpg                       2019-06-01 16:54:54        25127\n",
            "me/test/Normal/Im232.jpg                       2019-06-01 16:54:54        29680\n",
            "me/test/Normal/Im233.jpg                       2019-06-01 16:54:54        31556\n",
            "me/test/Normal/Im234.jpg                       2019-06-01 16:54:54        32258\n",
            "me/test/Normal/Im235.jpg                       2019-06-01 16:54:54        29509\n",
            "me/test/Normal/Im236.jpg                       2019-06-01 16:54:54        24697\n",
            "me/test/Normal/Im237.jpg                       2019-06-01 16:54:54        32083\n",
            "me/test/Normal/Im238.jpg                       2019-06-01 16:54:54        28619\n",
            "me/test/Normal/Im239.jpg                       2019-06-01 16:54:54        26708\n",
            "me/test/Normal/Im240.jpg                       2019-06-01 16:54:54        23017\n",
            "me/test/Normal/Im241.jpg                       2019-06-01 16:54:54        25663\n",
            "me/test/Normal/Im242.jpg                       2019-06-01 16:54:54        31242\n",
            "me/test/Normal/Im243.jpg                       2019-06-01 16:54:54        28874\n",
            "me/test/Normal/Im244.jpg                       2019-06-01 16:54:54        33241\n",
            "me/test/Normal/Im245.jpg                       2019-06-01 16:54:54        32016\n",
            "me/test/Normal/Im246.jpg                       2019-06-01 16:54:54        24954\n",
            "me/test/Normal/Im247.jpg                       2019-06-01 16:54:54        29203\n",
            "me/test/Normal/Im248.jpg                       2019-06-01 16:54:54        35791\n",
            "me/test/Normal/Im249.jpg                       2019-06-01 16:54:54        39777\n",
            "me/test/Normal/Im250.jpg                       2019-06-01 16:54:54        31638\n",
            "me/test/Normal/Im251.jpg                       2019-06-01 16:54:54        32780\n",
            "me/test/Normal/Im252.jpg                       2019-06-01 16:54:54        27958\n",
            "me/test/Normal/Im253.jpg                       2019-06-01 16:54:54        33605\n",
            "me/test/Normal/Im254.jpg                       2019-06-01 16:54:54        25030\n",
            "me/test/Normal/Im255.jpg                       2011-06-13 09:55:32        28077\n",
            "me/train/                                      2019-06-01 16:54:52            0\n",
            "me/train/glaucoma/                             2019-06-01 16:54:54            0\n",
            "me/train/glaucoma/Im256.jpg                    2019-06-01 16:54:54         9703\n",
            "me/train/glaucoma/Im257.jpg                    2019-06-01 16:54:54        10320\n",
            "me/train/glaucoma/Im258.jpg                    2019-06-01 16:54:54        16232\n",
            "me/train/glaucoma/Im259.jpg                    2019-06-01 16:54:54        14107\n",
            "me/train/glaucoma/Im260.jpg                    2019-06-01 16:54:54        13591\n",
            "me/train/glaucoma/Im261.jpg                    2019-06-01 16:54:54        14374\n",
            "me/train/glaucoma/Im262.jpg                    2019-06-01 16:54:54         9899\n",
            "me/train/glaucoma/Im263.jpg                    2019-06-01 16:54:54         8220\n",
            "me/train/glaucoma/Im264.jpg                    2019-06-01 16:54:54         8146\n",
            "me/train/glaucoma/Im265.jpg                    2019-06-01 16:54:54        11975\n",
            "me/train/glaucoma/Im266.jpg                    2019-06-01 16:54:54        11926\n",
            "me/train/glaucoma/Im267.jpg                    2019-06-01 16:54:54         6875\n",
            "me/train/glaucoma/Im268.jpg                    2019-06-01 16:54:54        11374\n",
            "me/train/glaucoma/Im269.jpg                    2019-06-01 16:54:54        12553\n",
            "me/train/glaucoma/Im270.jpg                    2019-06-01 16:54:54        15320\n",
            "me/train/glaucoma/Im271.jpg                    2019-06-01 16:54:54         6720\n",
            "me/train/glaucoma/Im272.jpg                    2019-06-01 16:54:54        10580\n",
            "me/train/glaucoma/Im273.jpg                    2019-06-01 16:54:54         9095\n",
            "me/train/glaucoma/Im274.jpg                    2019-06-01 16:54:54        16460\n",
            "me/train/glaucoma/Im275.jpg                    2019-06-01 16:54:54         9489\n",
            "me/train/glaucoma/Im276.jpg                    2019-06-01 16:54:54         8526\n",
            "me/train/glaucoma/Im277.jpg                    2019-06-01 16:54:54        10371\n",
            "me/train/glaucoma/Im278.jpg                    2019-06-01 16:54:54        10551\n",
            "me/train/glaucoma/Im279.jpg                    2019-06-01 16:54:54         9584\n",
            "me/train/glaucoma/Im280.jpg                    2019-06-01 16:54:54        10587\n",
            "me/train/glaucoma/Im281.jpg                    2019-06-01 16:54:54        19433\n",
            "me/train/glaucoma/Im282.jpg                    2019-06-01 16:54:54        13150\n",
            "me/train/glaucoma/Im283.jpg                    2019-06-01 16:54:54        13341\n",
            "me/train/glaucoma/Im284.jpg                    2019-06-01 16:54:54        15534\n",
            "me/train/glaucoma/Im285.jpg                    2019-06-01 16:54:54        14755\n",
            "me/train/glaucoma/Im286.jpg                    2019-06-01 16:54:54        13979\n",
            "me/train/glaucoma/Im287.jpg                    2019-06-01 16:54:54        12306\n",
            "me/train/glaucoma/Im288.jpg                    2019-06-01 16:54:54        14899\n",
            "me/train/glaucoma/Im289.jpg                    2019-06-01 16:54:54        14028\n",
            "me/train/glaucoma/Im290.jpg                    2019-06-01 16:54:54        11112\n",
            "me/train/glaucoma/Im291.jpg                    2019-06-01 16:54:54        11632\n",
            "me/train/glaucoma/Im292.jpg                    2019-06-01 16:54:54        16762\n",
            "me/train/glaucoma/Im293.jpg                    2019-06-01 16:54:54         6445\n",
            "me/train/glaucoma/Im294.jpg                    2019-06-01 16:54:54         6351\n",
            "me/train/glaucoma/Im295.jpg                    2019-06-01 16:54:54         5892\n",
            "me/train/glaucoma/Im296.jpg                    2019-06-01 16:54:54        15589\n",
            "me/train/glaucoma/Im297.jpg                    2019-06-01 16:54:54        13986\n",
            "me/train/glaucoma/Im298.jpg                    2019-06-01 16:54:54        14552\n",
            "me/train/glaucoma/Im299.jpg                    2019-06-01 16:54:54        10455\n",
            "me/train/glaucoma/Im300.jpg                    2019-06-01 16:54:54         9750\n",
            "me/train/glaucoma/Im301.jpg                    2019-06-01 16:54:54        10830\n",
            "me/train/glaucoma/Im302.jpg                    2019-06-01 16:54:54        13708\n",
            "me/train/glaucoma/Im303.jpg                    2019-06-01 16:54:54         6222\n",
            "me/train/glaucoma/Im304.jpg                    2019-06-01 16:54:54         8023\n",
            "me/train/glaucoma/Im305.jpg                    2019-06-01 16:54:54         7233\n",
            "me/train/glaucoma/Im306.jpg                    2019-06-01 16:54:54        17101\n",
            "me/train/glaucoma/Im307.jpg                    2019-06-01 16:54:54        16747\n",
            "me/train/glaucoma/Im308.jpg                    2019-06-01 16:54:54        14197\n",
            "me/train/glaucoma/Im309.jpg                    2019-06-01 16:54:54        14871\n",
            "me/train/glaucoma/Im310.jpg                    2019-06-01 16:54:54        18220\n",
            "me/train/glaucoma/Im311.jpg                    2019-06-01 16:54:54        15789\n",
            "me/train/glaucoma/Im312.jpg                    2019-06-01 16:54:54         9154\n",
            "me/train/glaucoma/Im313.jpg                    2019-06-01 16:54:54         9460\n",
            "me/train/glaucoma/Im314.jpg                    2019-06-01 16:54:54         9047\n",
            "me/train/glaucoma/Im315.jpg                    2019-06-01 16:54:54        10370\n",
            "me/train/glaucoma/Im316.jpg                    2019-06-01 16:54:54        11551\n",
            "me/train/glaucoma/Im317.jpg                    2019-06-01 16:54:54        14198\n",
            "me/train/glaucoma/Im318.jpg                    2019-06-01 16:54:54        12697\n",
            "me/train/glaucoma/Im319.jpg                    2019-06-01 16:54:54        73302\n",
            "me/train/glaucoma/Im320.jpg                    2019-06-01 16:54:54         8871\n",
            "me/train/glaucoma/Im321.jpg                    2019-06-01 16:54:54         9064\n",
            "me/train/glaucoma/Im322.jpg                    2019-06-01 16:54:54        13215\n",
            "me/train/glaucoma/Im323.jpg                    2019-06-01 16:54:54        12065\n",
            "me/train/glaucoma/Im324.jpg                    2019-06-01 16:54:54        11454\n",
            "me/train/glaucoma/Im325.jpg                    2019-06-01 16:54:54        16896\n",
            "me/train/glaucoma/Im326.jpg                    2019-06-01 16:54:54        16964\n",
            "me/train/glaucoma/Im327.jpg                    2019-06-01 16:54:54        11925\n",
            "me/train/glaucoma/Im328.jpg                    2019-06-01 16:54:54        11082\n",
            "me/train/glaucoma/Im329.jpg                    2019-06-01 16:54:54        16275\n",
            "me/train/glaucoma/Im330.jpg                    2019-06-01 16:54:54        20622\n",
            "me/train/glaucoma/Im331.jpg                    2019-06-01 16:54:54        16091\n",
            "me/train/glaucoma/Im332.jpg                    2019-06-01 16:54:54        16437\n",
            "me/train/glaucoma/Im333.jpg                    2019-06-01 16:54:54        23160\n",
            "me/train/glaucoma/Im334.jpg                    2019-06-01 16:54:54        15617\n",
            "me/train/glaucoma/Im335.jpg                    2019-06-01 16:54:54         9030\n",
            "me/train/glaucoma/Im336.jpg                    2019-06-01 16:54:54        10486\n",
            "me/train/glaucoma/Im337.jpg                    2019-06-01 16:54:54        10803\n",
            "me/train/glaucoma/Im338.jpg                    2019-06-01 16:54:54        13067\n",
            "me/train/glaucoma/Im339.jpg                    2019-06-01 16:54:54        14318\n",
            "me/train/glaucoma/Im340.jpg                    2019-06-01 16:54:54        10089\n",
            "me/train/glaucoma/Im341.jpg                    2019-06-01 16:54:54         9543\n",
            "me/train/glaucoma/Im342.jpg                    2019-06-01 16:54:54        11830\n",
            "me/train/glaucoma/Im343.jpg                    2019-06-01 16:54:54         9531\n",
            "me/train/glaucoma/Im344.jpg                    2019-06-01 16:54:54        10259\n",
            "me/train/glaucoma/Im345.jpg                    2019-06-01 16:54:54        28269\n",
            "me/train/glaucoma/Im346.jpg                    2019-06-01 16:54:54        27654\n",
            "me/train/glaucoma/Im347.jpg                    2019-06-01 16:54:54        24326\n",
            "me/train/glaucoma/Im348.jpg                    2019-06-01 16:54:54        23393\n",
            "me/train/glaucoma/Im349.jpg                    2019-06-01 16:54:54        28099\n",
            "me/train/glaucoma/Im350.jpg                    2019-06-01 16:54:54        42662\n",
            "me/train/glaucoma/Im351.jpg                    2019-06-01 16:54:54        45023\n",
            "me/train/glaucoma/Im352.jpg                    2019-06-01 16:54:54        30183\n",
            "me/train/glaucoma/Im353.jpg                    2019-06-01 16:54:54        28032\n",
            "me/train/glaucoma/Im354.jpg                    2019-06-01 16:54:54        26627\n",
            "me/train/Normal/                               2019-06-01 16:54:54            0\n",
            "me/train/Normal/Im1.jpg                        2019-06-01 16:54:52         7854\n",
            "me/train/Normal/Im10.jpg                       2019-06-01 16:54:52        12088\n",
            "me/train/Normal/Im100.jpg                      2019-06-01 16:54:54        35465\n",
            "me/train/Normal/Im101.jpg                      2019-06-01 16:54:54        34908\n",
            "me/train/Normal/Im102.jpg                      2019-06-01 16:54:54        25907\n",
            "me/train/Normal/Im103.jpg                      2019-06-01 16:54:54        24572\n",
            "me/train/Normal/Im104.jpg                      2019-06-01 16:54:54        40794\n",
            "me/train/Normal/Im105.jpg                      2019-06-01 16:54:54        35674\n",
            "me/train/Normal/Im106.jpg                      2019-06-01 16:54:54        32950\n",
            "me/train/Normal/Im107.jpg                      2019-06-01 16:54:54        33449\n",
            "me/train/Normal/Im108.jpg                      2019-06-01 16:54:54        30662\n",
            "me/train/Normal/Im109.jpg                      2019-06-01 16:54:54        29720\n",
            "me/train/Normal/Im11.jpg                       2019-06-01 16:54:52        11129\n",
            "me/train/Normal/Im110.jpg                      2019-06-01 16:54:54        30291\n",
            "me/train/Normal/Im111.jpg                      2019-06-01 16:54:54        32570\n",
            "me/train/Normal/Im112.jpg                      2019-06-01 16:54:54        27344\n",
            "me/train/Normal/Im113.jpg                      2019-06-01 16:54:54        21335\n",
            "me/train/Normal/Im114.jpg                      2019-06-01 16:54:54        34642\n",
            "me/train/Normal/Im115.jpg                      2019-06-01 16:54:54        31862\n",
            "me/train/Normal/Im116.jpg                      2019-06-01 16:54:54        21858\n",
            "me/train/Normal/Im117.jpg                      2019-06-01 16:54:54        22913\n",
            "me/train/Normal/Im118.jpg                      2019-06-01 16:54:54        30569\n",
            "me/train/Normal/Im119.jpg                      2019-06-01 16:54:54        26624\n",
            "me/train/Normal/Im12.jpg                       2019-06-01 16:54:52        10357\n",
            "me/train/Normal/Im120.jpg                      2019-06-01 16:54:54        27299\n",
            "me/train/Normal/Im121.jpg                      2019-06-01 16:54:54        32099\n",
            "me/train/Normal/Im122.jpg                      2019-06-01 16:54:54        40780\n",
            "me/train/Normal/Im123.jpg                      2019-06-01 16:54:54        37472\n",
            "me/train/Normal/Im124.jpg                      2019-06-01 16:54:54        27946\n",
            "me/train/Normal/Im125.jpg                      2019-06-01 16:54:54        29739\n",
            "me/train/Normal/Im126.jpg                      2019-06-01 16:54:54        23992\n",
            "me/train/Normal/Im127.jpg                      2019-06-01 16:54:54        30763\n",
            "me/train/Normal/Im128.jpg                      2019-06-01 16:54:54        34454\n",
            "me/train/Normal/Im129.jpg                      2019-06-01 16:54:54        37721\n",
            "me/train/Normal/Im13.jpg                       2019-06-01 16:54:52         8005\n",
            "me/train/Normal/Im130.jpg                      2019-06-01 16:54:54        36074\n",
            "me/train/Normal/Im131.jpg                      2019-06-01 16:54:54        37172\n",
            "me/train/Normal/Im132.jpg                      2019-06-01 16:54:54        29812\n",
            "me/train/Normal/Im133.jpg                      2019-06-01 16:54:54        30532\n",
            "me/train/Normal/Im134.jpg                      2019-06-01 16:54:54        29205\n",
            "me/train/Normal/Im135.jpg                      2019-06-01 16:54:54        31781\n",
            "me/train/Normal/Im136.jpg                      2019-06-01 16:54:54        25984\n",
            "me/train/Normal/Im137.jpg                      2019-06-01 16:54:54        25474\n",
            "me/train/Normal/Im138.jpg                      2019-06-01 16:54:54        30887\n",
            "me/train/Normal/Im139.jpg                      2019-06-01 16:54:54        30955\n",
            "me/train/Normal/Im14.jpg                       2019-06-01 16:54:52         8752\n",
            "me/train/Normal/Im140.jpg                      2019-06-01 16:54:54        32723\n",
            "me/train/Normal/Im141.jpg                      2019-06-01 16:54:54        32169\n",
            "me/train/Normal/Im142.jpg                      2019-06-01 16:54:54        34636\n",
            "me/train/Normal/Im143.jpg                      2019-06-01 16:54:54        32854\n",
            "me/train/Normal/Im144.jpg                      2019-06-01 16:54:54        23331\n",
            "me/train/Normal/Im145.jpg                      2019-06-01 16:54:54        24650\n",
            "me/train/Normal/Im146.jpg                      2019-06-01 16:54:54        26429\n",
            "me/train/Normal/Im147.jpg                      2019-06-01 16:54:54        29344\n",
            "me/train/Normal/Im148.jpg                      2019-06-01 16:54:54        32235\n",
            "me/train/Normal/Im149.jpg                      2019-06-01 16:54:54        27275\n",
            "me/train/Normal/Im15.jpg                       2019-06-01 16:54:52         9594\n",
            "me/train/Normal/Im150.jpg                      2019-06-01 16:54:54        36018\n",
            "me/train/Normal/Im151.jpg                      2019-06-01 16:54:54        38166\n",
            "me/train/Normal/Im152.jpg                      2019-06-01 16:54:54        31199\n",
            "me/train/Normal/Im153.jpg                      2019-06-01 16:54:54        24823\n",
            "me/train/Normal/Im154.jpg                      2019-06-01 16:54:54        30073\n",
            "me/train/Normal/Im155.jpg                      2019-06-01 16:54:54        31372\n",
            "me/train/Normal/Im156.jpg                      2019-06-01 16:54:54        33872\n",
            "me/train/Normal/Im157.jpg                      2019-06-01 16:54:54        36287\n",
            "me/train/Normal/Im158.jpg                      2019-06-01 16:54:54        35060\n",
            "me/train/Normal/Im159.jpg                      2019-06-01 16:54:54        31736\n",
            "me/train/Normal/Im16.jpg                       2019-06-01 16:54:52        11821\n",
            "me/train/Normal/Im160.jpg                      2019-06-01 16:54:54        31312\n",
            "me/train/Normal/Im161.jpg                      2019-06-01 16:54:54        30262\n",
            "me/train/Normal/Im162.jpg                      2019-06-01 16:54:54        29632\n",
            "me/train/Normal/Im163.jpg                      2019-06-01 16:54:54        32992\n",
            "me/train/Normal/Im164.jpg                      2019-06-01 16:54:54        31128\n",
            "me/train/Normal/Im165.jpg                      2019-06-01 16:54:54        28987\n",
            "me/train/Normal/Im166.jpg                      2019-06-01 16:54:54        27717\n",
            "me/train/Normal/Im167.jpg                      2019-06-01 16:54:54        27532\n",
            "me/train/Normal/Im168.jpg                      2019-06-01 16:54:54        22795\n",
            "me/train/Normal/Im169.jpg                      2019-06-01 16:54:54        23090\n",
            "me/train/Normal/Im17.jpg                       2019-06-01 16:54:52         8334\n",
            "me/train/Normal/Im170.jpg                      2019-06-01 16:54:54        25273\n",
            "me/train/Normal/Im171.jpg                      2019-06-01 16:54:54        25895\n",
            "me/train/Normal/Im172.jpg                      2019-06-01 16:54:54        30685\n",
            "me/train/Normal/Im173.jpg                      2019-06-01 16:54:54        28775\n",
            "me/train/Normal/Im174.jpg                      2019-06-01 16:54:54        31118\n",
            "me/train/Normal/Im175.jpg                      2019-06-01 16:54:54        37030\n",
            "me/train/Normal/Im176.jpg                      2019-06-01 16:54:54        35137\n",
            "me/train/Normal/Im177.jpg                      2019-06-01 16:54:54        39750\n",
            "me/train/Normal/Im178.jpg                      2019-06-01 16:54:54        27399\n",
            "me/train/Normal/Im179.jpg                      2019-06-01 16:54:54        26650\n",
            "me/train/Normal/Im18.jpg                       2019-06-01 16:54:52         7038\n",
            "me/train/Normal/Im180.jpg                      2019-06-01 16:54:54        28698\n",
            "me/train/Normal/Im181.jpg                      2019-06-01 16:54:54        21991\n",
            "me/train/Normal/Im182.jpg                      2019-06-01 16:54:54        29456\n",
            "me/train/Normal/Im183.jpg                      2019-06-01 16:54:54        27965\n",
            "me/train/Normal/Im184.jpg                      2019-06-01 16:54:54        24295\n",
            "me/train/Normal/Im185.jpg                      2019-06-01 16:54:54        24883\n",
            "me/train/Normal/Im186.jpg                      2019-06-01 16:54:54        42288\n",
            "me/train/Normal/Im187.jpg                      2019-06-01 16:54:54        42794\n",
            "me/train/Normal/Im188.jpg                      2019-06-01 16:54:54        35753\n",
            "me/train/Normal/Im189.jpg                      2019-06-01 16:54:54        34259\n",
            "me/train/Normal/Im19.jpg                       2019-06-01 16:54:52         9284\n",
            "me/train/Normal/Im190.jpg                      2019-06-01 16:54:54        27148\n",
            "me/train/Normal/Im191.jpg                      2019-06-01 16:54:54        24849\n",
            "me/train/Normal/Im192.jpg                      2019-06-01 16:54:54        31369\n",
            "me/train/Normal/Im193.jpg                      2019-06-01 16:54:54        33591\n",
            "me/train/Normal/Im194.jpg                      2019-06-01 16:54:54        29453\n",
            "me/train/Normal/Im195.jpg                      2019-06-01 16:54:54        32925\n",
            "me/train/Normal/Im196.jpg                      2019-06-01 16:54:54        36776\n",
            "me/train/Normal/Im197.jpg                      2019-06-01 16:54:54        33709\n",
            "me/train/Normal/Im198.jpg                      2019-06-01 16:54:54        41194\n",
            "me/train/Normal/Im199.jpg                      2019-06-01 16:54:54        39533\n",
            "me/train/Normal/Im2.jpg                        2019-06-01 16:54:52        11495\n",
            "me/train/Normal/Im20.jpg                       2019-06-01 16:54:52         9363\n",
            "me/train/Normal/Im21.jpg                       2019-06-01 16:54:52         8314\n",
            "me/train/Normal/Im22.jpg                       2019-06-01 16:54:52         8709\n",
            "me/train/Normal/Im23.jpg                       2019-06-01 16:54:52        11605\n",
            "me/train/Normal/Im24.jpg                       2019-06-01 16:54:52         8603\n",
            "me/train/Normal/Im25.jpg                       2019-06-01 16:54:52        10835\n",
            "me/train/Normal/Im26.jpg                       2019-06-01 16:54:52        11269\n",
            "me/train/Normal/Im27.jpg                       2019-06-01 16:54:52        10809\n",
            "me/train/Normal/Im28.jpg                       2019-06-01 16:54:52        14511\n",
            "me/train/Normal/Im29.jpg                       2019-06-01 16:54:52         8892\n",
            "me/train/Normal/Im3.jpg                        2019-06-01 16:54:52        11252\n",
            "me/train/Normal/Im30.jpg                       2019-06-01 16:54:52         8374\n",
            "me/train/Normal/Im31.jpg                       2019-06-01 16:54:52        10411\n",
            "me/train/Normal/Im32.jpg                       2019-06-01 16:54:52        10081\n",
            "me/train/Normal/Im33.jpg                       2019-06-01 16:54:52         9278\n",
            "me/train/Normal/Im34.jpg                       2019-06-01 16:54:52        25662\n",
            "me/train/Normal/Im35.jpg                       2019-06-01 16:54:52       219267\n",
            "me/train/Normal/Im36.jpg                       2019-06-01 16:54:52        30381\n",
            "me/train/Normal/Im37.jpg                       2019-06-01 16:54:52        30354\n",
            "me/train/Normal/Im38.jpg                       2019-06-01 16:54:52        41194\n",
            "me/train/Normal/Im39.jpg                       2019-06-01 16:54:52        42417\n",
            "me/train/Normal/Im4.jpg                        2019-06-01 16:54:52         9730\n",
            "me/train/Normal/Im40.jpg                       2019-06-01 16:54:54        32407\n",
            "me/train/Normal/Im41.jpg                       2019-06-01 16:54:54        33997\n",
            "me/train/Normal/Im42.jpg                       2019-06-01 16:54:54        41451\n",
            "me/train/Normal/Im43.jpg                       2019-06-01 16:54:54        38170\n",
            "me/train/Normal/Im44.jpg                       2019-06-01 16:54:54        34273\n",
            "me/train/Normal/Im45.jpg                       2019-06-01 16:54:54        33657\n",
            "me/train/Normal/Im46.jpg                       2019-06-01 16:54:54        25582\n",
            "me/train/Normal/Im47.jpg                       2019-06-01 16:54:54        30155\n",
            "me/train/Normal/Im48.jpg                       2019-06-01 16:54:54        25773\n",
            "me/train/Normal/Im49.jpg                       2019-06-01 16:54:54        25854\n",
            "me/train/Normal/Im5.jpg                        2019-06-01 16:54:52         9095\n",
            "me/train/Normal/Im50.jpg                       2019-06-01 16:54:54        37138\n",
            "me/train/Normal/Im51.jpg                       2019-06-01 16:54:54        35552\n",
            "me/train/Normal/Im52.jpg                       2019-06-01 16:54:54        28857\n",
            "me/train/Normal/Im53.jpg                       2019-06-01 16:54:54        31656\n",
            "me/train/Normal/Im54.jpg                       2019-06-01 16:54:54        33239\n",
            "me/train/Normal/Im55.jpg                       2019-06-01 16:54:54        30886\n",
            "me/train/Normal/Im56.jpg                       2019-06-01 16:54:54        29778\n",
            "me/train/Normal/Im57.jpg                       2019-06-01 16:54:54        30334\n",
            "me/train/Normal/Im58.jpg                       2019-06-01 16:54:54        23690\n",
            "me/train/Normal/Im59.jpg                       2019-06-01 16:54:54        23239\n",
            "me/train/Normal/Im6.jpg                        2019-06-01 16:54:52         7247\n",
            "me/train/Normal/Im60.jpg                       2019-06-01 16:54:54        30891\n",
            "me/train/Normal/Im61.jpg                       2019-06-01 16:54:54        33411\n",
            "me/train/Normal/Im62.jpg                       2019-06-01 16:54:54        33521\n",
            "me/train/Normal/Im63.jpg                       2019-06-01 16:54:54        36902\n",
            "me/train/Normal/Im64.jpg                       2019-06-01 16:54:54        32560\n",
            "me/train/Normal/Im65.jpg                       2019-06-01 16:54:54        36009\n",
            "me/train/Normal/Im66.jpg                       2019-06-01 16:54:54        30627\n",
            "me/train/Normal/Im67.jpg                       2019-06-01 16:54:54        32226\n",
            "me/train/Normal/Im68.jpg                       2019-06-01 16:54:54        27546\n",
            "me/train/Normal/Im69.jpg                       2019-06-01 16:54:54        29029\n",
            "me/train/Normal/Im7.jpg                        2019-06-01 16:54:52         7545\n",
            "me/train/Normal/Im70.jpg                       2019-06-01 16:54:54        30333\n",
            "me/train/Normal/Im71.jpg                       2019-06-01 16:54:54        28643\n",
            "me/train/Normal/Im72.jpg                       2019-06-01 16:54:54        25249\n",
            "me/train/Normal/Im73.jpg                       2019-06-01 16:54:54        31350\n",
            "me/train/Normal/Im74.jpg                       2019-06-01 16:54:54        34459\n",
            "me/train/Normal/Im75.jpg                       2019-06-01 16:54:54        41655\n",
            "me/train/Normal/Im76.jpg                       2019-06-01 16:54:54        26126\n",
            "me/train/Normal/Im77.jpg                       2019-06-01 16:54:54        29002\n",
            "me/train/Normal/Im78.jpg                       2019-06-01 16:54:54        29691\n",
            "me/train/Normal/Im79.jpg                       2019-06-01 16:54:54        29992\n",
            "me/train/Normal/Im8.jpg                        2019-06-01 16:54:52         7060\n",
            "me/train/Normal/Im80.jpg                       2019-06-01 16:54:54        30797\n",
            "me/train/Normal/Im81.jpg                       2019-06-01 16:54:54        29934\n",
            "me/train/Normal/Im82.jpg                       2019-06-01 16:54:54        29279\n",
            "me/train/Normal/Im83.jpg                       2019-06-01 16:54:54        29617\n",
            "me/train/Normal/Im84.jpg                       2019-06-01 16:54:54        33822\n",
            "me/train/Normal/Im85.jpg                       2019-06-01 16:54:54        35298\n",
            "me/train/Normal/Im86.jpg                       2019-06-01 16:54:54        35202\n",
            "me/train/Normal/Im87.jpg                       2019-06-01 16:54:54        39514\n",
            "me/train/Normal/Im88.jpg                       2019-06-01 16:54:54        30740\n",
            "me/train/Normal/Im89.jpg                       2019-06-01 16:54:54        30033\n",
            "me/train/Normal/Im9.jpg                        2019-06-01 16:54:52        13334\n",
            "me/train/Normal/Im90.jpg                       2019-06-01 16:54:54        38043\n",
            "me/train/Normal/Im91.jpg                       2019-06-01 16:54:54        37651\n",
            "me/train/Normal/Im92.jpg                       2019-06-01 16:54:54        29395\n",
            "me/train/Normal/Im93.jpg                       2019-06-01 16:54:54        30341\n",
            "me/train/Normal/Im94.jpg                       2019-06-01 16:54:54        28624\n",
            "me/train/Normal/Im95.jpg                       2019-06-01 16:54:54        29327\n",
            "me/train/Normal/Im96.jpg                       2019-06-01 16:54:54        34477\n",
            "me/train/Normal/Im97.jpg                       2019-06-01 16:54:54        32138\n",
            "me/train/Normal/Im98.jpg                       2019-06-01 16:54:54        39379\n",
            "me/train/Normal/Im99.jpg                       2019-06-01 16:54:54        39189\n",
            "me/validation/                                 2019-06-01 16:54:52            0\n",
            "me/validation/glaucoma/                        2019-06-01 19:59:16            0\n",
            "me/validation/glaucoma/Im355.jpg               2011-06-13 10:24:10        29765\n",
            "me/validation/glaucoma/Im356.jpg               2019-06-01 16:54:54        41849\n",
            "me/validation/glaucoma/Im357.jpg               2019-06-01 16:54:54        34397\n",
            "me/validation/glaucoma/Im358.jpg               2019-06-01 16:54:54        41058\n",
            "me/validation/glaucoma/Im359.jpg               2019-06-01 16:54:54        42037\n",
            "me/validation/glaucoma/Im360.jpg               2019-06-01 16:54:54        26182\n",
            "me/validation/glaucoma/Im361.jpg               2019-06-01 16:54:54        22920\n",
            "me/validation/glaucoma/Im362.jpg               2019-06-01 16:54:54        23980\n",
            "me/validation/glaucoma/Im363.jpg               2019-06-01 16:54:54        37980\n",
            "me/validation/glaucoma/Im364.jpg               2019-06-01 16:54:54        26074\n",
            "me/validation/glaucoma/Im365.jpg               2019-06-01 16:54:54        25298\n",
            "me/validation/glaucoma/Im366.jpg               2019-06-01 16:54:54        26972\n",
            "me/validation/glaucoma/Im367.jpg               2019-06-01 16:54:54        39487\n",
            "me/validation/glaucoma/Im368.jpg               2019-06-01 16:54:54        44504\n",
            "me/validation/glaucoma/Im369.jpg               2019-06-01 16:54:54        33761\n",
            "me/validation/glaucoma/Im370.jpg               2019-06-01 16:54:54        21870\n",
            "me/validation/glaucoma/Im371.jpg               2019-06-01 16:54:54        20263\n",
            "me/validation/glaucoma/Im372.jpg               2019-06-01 16:54:54        31434\n",
            "me/validation/glaucoma/Im373.jpg               2019-06-01 16:54:54        33747\n",
            "me/validation/glaucoma/Im374.jpg               2019-06-01 16:54:54        31377\n",
            "me/validation/glaucoma/Im375.jpg               2019-06-01 16:54:54        28994\n",
            "me/validation/glaucoma/Im376.jpg               2019-06-01 16:54:54        31895\n",
            "me/validation/glaucoma/Im377.jpg               2019-06-01 16:54:54        22274\n",
            "me/validation/glaucoma/Im378.jpg               2019-06-01 16:54:54        47213\n",
            "me/validation/glaucoma/Im379.jpg               2019-06-01 16:54:54        35074\n",
            "me/validation/glaucoma/Im380.jpg               2019-06-01 16:54:54        41495\n",
            "me/validation/glaucoma/Im381.jpg               2019-06-01 16:54:54        40193\n",
            "me/validation/glaucoma/Im382.jpg               2019-06-01 16:54:54        39617\n",
            "me/validation/glaucoma/Im383.jpg               2019-06-01 16:54:54        40701\n",
            "me/validation/glaucoma/Im384.jpg               2019-06-01 16:54:54        36245\n",
            "me/validation/glaucoma/Im385.jpg               2019-06-01 16:54:54        37353\n",
            "me/validation/glaucoma/Im386.jpg               2019-06-01 16:54:54        35842\n",
            "me/validation/glaucoma/Im387.jpg               2019-06-01 16:54:54        27292\n",
            "me/validation/glaucoma/Im388.jpg               2019-06-01 16:54:54        26400\n",
            "me/validation/glaucoma/Im389.jpg               2019-06-01 16:54:54        32264\n",
            "me/validation/glaucoma/Im390.jpg               2019-06-01 16:54:54        29994\n",
            "me/validation/glaucoma/Im391.jpg               2019-06-01 16:54:54        32365\n",
            "me/validation/glaucoma/Im392.jpg               2019-06-01 16:54:54        33934\n",
            "me/validation/glaucoma/Im393.jpg               2019-06-01 16:54:54        29424\n",
            "me/validation/glaucoma/Im394.jpg               2019-06-01 16:54:54        30376\n",
            "me/validation/glaucoma/Im395.jpg               2019-06-01 16:54:54        30357\n",
            "me/validation/glaucoma/Im396.jpg               2019-06-01 16:54:54        30371\n",
            "me/validation/glaucoma/Im397.jpg               2019-06-01 16:54:54        33171\n",
            "me/validation/glaucoma/Im398.jpg               2019-06-01 16:54:54        30937\n",
            "me/validation/glaucoma/Im399.jpg               2019-06-01 16:54:54        39037\n",
            "me/validation/glaucoma/Im400.jpg               2019-06-01 16:54:54        34361\n",
            "me/validation/glaucoma/Im401.jpg               2019-06-01 16:54:54        35885\n",
            "me/validation/glaucoma/Im402.jpg               2019-06-01 16:54:54        33512\n",
            "me/validation/glaucoma/Im403.jpg               2019-06-01 16:54:54        36040\n",
            "me/validation/glaucoma/Im404.jpg               2019-06-01 16:54:54        32935\n",
            "me/validation/Normal/                          2019-06-01 16:54:54            0\n",
            "me/validation/Normal/Im200.jpg                 2019-06-01 16:54:54        30015\n",
            "me/validation/Normal/Im201.jpg                 2019-06-01 16:54:54        29645\n",
            "me/validation/Normal/Im202.jpg                 2019-06-01 16:54:54        31562\n",
            "me/validation/Normal/Im203.jpg                 2019-06-01 16:54:54        30564\n",
            "me/validation/Normal/Im204.jpg                 2019-06-01 16:54:54        33981\n",
            "me/validation/Normal/Im205.jpg                 2019-06-01 16:54:54        33833\n",
            "me/validation/Normal/Im206.jpg                 2019-06-01 16:54:54        39265\n",
            "me/validation/Normal/Im207.jpg                 2019-06-01 16:54:54        38631\n",
            "me/validation/Normal/Im208.jpg                 2019-06-01 16:54:54        32436\n",
            "me/validation/Normal/Im209.jpg                 2019-06-01 16:54:54        33805\n",
            "me/validation/Normal/Im210.jpg                 2019-06-01 16:54:54        29462\n",
            "me/validation/Normal/Im211.jpg                 2019-06-01 16:54:54        30004\n",
            "me/validation/Normal/Im212.jpg                 2019-06-01 16:54:54        40237\n",
            "me/validation/Normal/Im213.jpg                 2019-06-01 16:54:54        36531\n",
            "me/validation/Normal/Im214.jpg                 2019-06-01 16:54:54        34835\n",
            "me/validation/Normal/Im215.jpg                 2019-06-01 16:54:54        34685\n",
            "me/validation/Normal/Im216.jpg                 2019-06-01 16:54:54        44870\n",
            "me/validation/Normal/Im217.jpg                 2019-06-01 16:54:54        31579\n",
            "me/validation/Normal/Im218.jpg                 2019-06-01 16:54:54        20760\n",
            "me/validation/Normal/Im219.jpg                 2019-06-01 16:54:54        20165\n",
            "me/validation/Normal/Im220.jpg                 2019-06-01 16:54:54        29815\n",
            "me/validation/Normal/Im221.jpg                 2019-06-01 16:54:54        31183\n",
            "me/validation/Normal/Im222.jpg                 2019-06-01 16:54:54        36039\n",
            "me/validation/Normal/Im223.jpg                 2019-06-01 16:54:54        44439\n"
          ],
          "name": "stdout"
        }
      ]
    },
    {
      "cell_type": "code",
      "metadata": {
        "id": "CpIeFgh53avN",
        "colab_type": "code",
        "colab": {}
      },
      "source": [
        "train_data_dir = 'me/train'  \n",
        "validation_data_dir = 'me/validation'  \n",
        "test_data_dir = 'me/test'"
      ],
      "execution_count": 0,
      "outputs": []
    },
    {
      "cell_type": "code",
      "metadata": {
        "id": "ynnX1pya3hdm",
        "colab_type": "code",
        "outputId": "7a58351d-2abc-4828-c79b-97470f79b369",
        "colab": {
          "base_uri": "https://localhost:8080/",
          "height": 262
        }
      },
      "source": [
        "target_names = [item for item in os.listdir(train_data_dir) if os.path.isdir(os.path.join(train_data_dir, item))]\n",
        "nb_train_samples = sum([len(files) for _, _, files in os.walk(train_data_dir)])  \n",
        "nb_validation_samples = sum([len(files) for _, _, files in os.walk(validation_data_dir)])\n",
        "nb_test_samples = sum([len(files) for _, _, files in os.walk(test_data_dir)])\n",
        "total_nb_samples = nb_train_samples + nb_validation_samples + nb_test_samples\n",
        "\n",
        "nb_classes = len(target_names)      # number of output classes\n",
        "\n",
        "print('Training a CNN Multi-Classifier Model ......')\n",
        "print('\\n - names of classes: ', target_names, '\\n - # of classes: ', nb_classes)\n",
        "print(' - # of trained samples: ', nb_train_samples, '\\n - # of validation samples: ', nb_validation_samples,\n",
        "      '\\n - # of test samples: ', nb_test_samples,\n",
        "       '\\n - total # of samples: ', total_nb_samples, '\\n - train ratio:', round(nb_train_samples/total_nb_samples*100, 2),\n",
        "      '\\n - validation ratio:', round(nb_validation_samples/total_nb_samples*100, 2),\n",
        "      '\\n - test ratio:', round(nb_test_samples/total_nb_samples*100, 2),\n",
        "     ' %', '\\n - # of epochs: ', epochs, '\\n - batch size: ', batch_size)"
      ],
      "execution_count": 0,
      "outputs": [
        {
          "output_type": "stream",
          "text": [
            "Training a CNN Multi-Classifier Model ......\n",
            "\n",
            " - names of classes:  ['cats', 'dogs', 'glaucoma', 'Normal'] \n",
            " - # of classes:  4\n"
          ],
          "name": "stdout"
        },
        {
          "output_type": "error",
          "ename": "NameError",
          "evalue": "ignored",
          "traceback": [
            "\u001b[0;31m---------------------------------------------------------------------------\u001b[0m",
            "\u001b[0;31mNameError\u001b[0m                                 Traceback (most recent call last)",
            "\u001b[0;32m<ipython-input-29-ca1da9888829>\u001b[0m in \u001b[0;36m<module>\u001b[0;34m()\u001b[0m\n\u001b[1;32m     14\u001b[0m       \u001b[0;34m'\\n - validation ratio:'\u001b[0m\u001b[0;34m,\u001b[0m \u001b[0mround\u001b[0m\u001b[0;34m(\u001b[0m\u001b[0mnb_validation_samples\u001b[0m\u001b[0;34m/\u001b[0m\u001b[0mtotal_nb_samples\u001b[0m\u001b[0;34m*\u001b[0m\u001b[0;36m100\u001b[0m\u001b[0;34m,\u001b[0m \u001b[0;36m2\u001b[0m\u001b[0;34m)\u001b[0m\u001b[0;34m,\u001b[0m\u001b[0;34m\u001b[0m\u001b[0;34m\u001b[0m\u001b[0m\n\u001b[1;32m     15\u001b[0m       \u001b[0;34m'\\n - test ratio:'\u001b[0m\u001b[0;34m,\u001b[0m \u001b[0mround\u001b[0m\u001b[0;34m(\u001b[0m\u001b[0mnb_test_samples\u001b[0m\u001b[0;34m/\u001b[0m\u001b[0mtotal_nb_samples\u001b[0m\u001b[0;34m*\u001b[0m\u001b[0;36m100\u001b[0m\u001b[0;34m,\u001b[0m \u001b[0;36m2\u001b[0m\u001b[0;34m)\u001b[0m\u001b[0;34m,\u001b[0m\u001b[0;34m\u001b[0m\u001b[0;34m\u001b[0m\u001b[0m\n\u001b[0;32m---> 16\u001b[0;31m      ' %', '\\n - # of epochs: ', epochs, '\\n - batch size: ', batch_size)\n\u001b[0m",
            "\u001b[0;31mNameError\u001b[0m: name 'epochs' is not defined"
          ]
        }
      ]
    },
    {
      "cell_type": "code",
      "metadata": {
        "id": "HBsG7OUY393i",
        "colab_type": "code",
        "outputId": "2af1163c-c424-4f27-b66d-e0945ca6f6cd",
        "colab": {
          "base_uri": "https://localhost:8080/",
          "height": 162
        }
      },
      "source": [
        "target_names = [item for item in os.listdir(train_data_dir) if os.path.isdir(os.path.join(train_data_dir, item))]\n"
      ],
      "execution_count": 0,
      "outputs": [
        {
          "output_type": "error",
          "ename": "NameError",
          "evalue": "ignored",
          "traceback": [
            "\u001b[0;31m---------------------------------------------------------------------------\u001b[0m",
            "\u001b[0;31mNameError\u001b[0m                                 Traceback (most recent call last)",
            "\u001b[0;32m<ipython-input-14-236a5c19b6a6>\u001b[0m in \u001b[0;36m<module>\u001b[0;34m()\u001b[0m\n\u001b[0;32m----> 1\u001b[0;31m \u001b[0mtarget_names\u001b[0m \u001b[0;34m=\u001b[0m \u001b[0;34m[\u001b[0m\u001b[0mitem\u001b[0m \u001b[0;32mfor\u001b[0m \u001b[0mitem\u001b[0m \u001b[0;32min\u001b[0m \u001b[0mos\u001b[0m\u001b[0;34m.\u001b[0m\u001b[0mlistdir\u001b[0m\u001b[0;34m(\u001b[0m\u001b[0mtrain_data_dir\u001b[0m\u001b[0;34m)\u001b[0m \u001b[0;32mif\u001b[0m \u001b[0mos\u001b[0m\u001b[0;34m.\u001b[0m\u001b[0mpath\u001b[0m\u001b[0;34m.\u001b[0m\u001b[0misdir\u001b[0m\u001b[0;34m(\u001b[0m\u001b[0mos\u001b[0m\u001b[0;34m.\u001b[0m\u001b[0mpath\u001b[0m\u001b[0;34m.\u001b[0m\u001b[0mjoin\u001b[0m\u001b[0;34m(\u001b[0m\u001b[0mtrain_data_dir\u001b[0m\u001b[0;34m,\u001b[0m \u001b[0mitem\u001b[0m\u001b[0;34m)\u001b[0m\u001b[0;34m)\u001b[0m\u001b[0;34m]\u001b[0m\u001b[0;34m\u001b[0m\u001b[0;34m\u001b[0m\u001b[0m\n\u001b[0m",
            "\u001b[0;31mNameError\u001b[0m: name 'os' is not defined"
          ]
        }
      ]
    },
    {
      "cell_type": "code",
      "metadata": {
        "id": "mkkUeLDe4E5R",
        "colab_type": "code",
        "colab": {}
      },
      "source": [
        "import os"
      ],
      "execution_count": 0,
      "outputs": []
    },
    {
      "cell_type": "code",
      "metadata": {
        "id": "AxD08b73317c",
        "colab_type": "code",
        "colab": {}
      },
      "source": [
        "target_names = [item for item in os.listdir(train_data_dir) if os.path.isdir(os.path.join(train_data_dir, item))]\n"
      ],
      "execution_count": 0,
      "outputs": []
    },
    {
      "cell_type": "code",
      "metadata": {
        "id": "QjGLCiGt6MuI",
        "colab_type": "code",
        "colab": {}
      },
      "source": [
        "target_names = [item for item in os.listdir(train_data_dir) if os.path.isdir(os.path.join(train_data_dir, item))]\n",
        "nb_train_samples = sum([len(files) for _, _, files in os.walk(train_data_dir)])  \n",
        "nb_validation_samples = sum([len(files) for _, _, files in os.walk(validation_data_dir)])\n",
        "nb_test_samples = sum([len(files) for _, _, files in os.walk(test_data_dir)])\n",
        "total_nb_samples = nb_train_samples + nb_validation_samples + nb_test_samples"
      ],
      "execution_count": 0,
      "outputs": []
    },
    {
      "cell_type": "code",
      "metadata": {
        "id": "epSnz_fY6WFe",
        "colab_type": "code",
        "colab": {}
      },
      "source": [
        "nb_classes = len(target_names)      # number of output classes\n"
      ],
      "execution_count": 0,
      "outputs": []
    },
    {
      "cell_type": "code",
      "metadata": {
        "id": "bgqh5NJz6dVD",
        "colab_type": "code",
        "outputId": "9fe77ac7-994f-43bf-8399-6c97f0f34e55",
        "colab": {
          "base_uri": "https://localhost:8080/",
          "height": 262
        }
      },
      "source": [
        "print('Training a CNN Multi-Classifier Model ......')\n",
        "print('\\n - names of classes: ', target_names, '\\n - # of classes: ', nb_classes)\n",
        "print(' - # of trained samples: ', nb_train_samples, '\\n - # of validation samples: ', nb_validation_samples,\n",
        "      '\\n - # of test samples: ', nb_test_samples,\n",
        "       '\\n - total # of samples: ', total_nb_samples, '\\n - train ratio:', round(nb_train_samples/total_nb_samples*100, 2),\n",
        "      '\\n - validation ratio:', round(nb_validation_samples/total_nb_samples*100, 2),\n",
        "      '\\n - test ratio:', round(nb_test_samples/total_nb_samples*100, 2),\n",
        "     ' %', '\\n - # of epochs: ', epochs, '\\n - batch size: ', batch_size)"
      ],
      "execution_count": 0,
      "outputs": [
        {
          "output_type": "stream",
          "text": [
            "Training a CNN Multi-Classifier Model ......\n",
            "\n",
            " - names of classes:  ['cats', 'dogs', 'glaucoma', 'Normal'] \n",
            " - # of classes:  4\n"
          ],
          "name": "stdout"
        },
        {
          "output_type": "error",
          "ename": "NameError",
          "evalue": "ignored",
          "traceback": [
            "\u001b[0;31m---------------------------------------------------------------------------\u001b[0m",
            "\u001b[0;31mNameError\u001b[0m                                 Traceback (most recent call last)",
            "\u001b[0;32m<ipython-input-34-b688d27e64e0>\u001b[0m in \u001b[0;36m<module>\u001b[0;34m()\u001b[0m\n\u001b[1;32m      6\u001b[0m       \u001b[0;34m'\\n - validation ratio:'\u001b[0m\u001b[0;34m,\u001b[0m \u001b[0mround\u001b[0m\u001b[0;34m(\u001b[0m\u001b[0mnb_validation_samples\u001b[0m\u001b[0;34m/\u001b[0m\u001b[0mtotal_nb_samples\u001b[0m\u001b[0;34m*\u001b[0m\u001b[0;36m100\u001b[0m\u001b[0;34m,\u001b[0m \u001b[0;36m2\u001b[0m\u001b[0;34m)\u001b[0m\u001b[0;34m,\u001b[0m\u001b[0;34m\u001b[0m\u001b[0;34m\u001b[0m\u001b[0m\n\u001b[1;32m      7\u001b[0m       \u001b[0;34m'\\n - test ratio:'\u001b[0m\u001b[0;34m,\u001b[0m \u001b[0mround\u001b[0m\u001b[0;34m(\u001b[0m\u001b[0mnb_test_samples\u001b[0m\u001b[0;34m/\u001b[0m\u001b[0mtotal_nb_samples\u001b[0m\u001b[0;34m*\u001b[0m\u001b[0;36m100\u001b[0m\u001b[0;34m,\u001b[0m \u001b[0;36m2\u001b[0m\u001b[0;34m)\u001b[0m\u001b[0;34m,\u001b[0m\u001b[0;34m\u001b[0m\u001b[0;34m\u001b[0m\u001b[0m\n\u001b[0;32m----> 8\u001b[0;31m      ' %', '\\n - # of epochs: ', epochs, '\\n - batch size: ', batch_size)\n\u001b[0m",
            "\u001b[0;31mNameError\u001b[0m: name 'epochs' is not defined"
          ]
        }
      ]
    },
    {
      "cell_type": "code",
      "metadata": {
        "id": "YeItCYgt7ywh",
        "colab_type": "code",
        "colab": {
          "base_uri": "https://localhost:8080/",
          "height": 162
        },
        "outputId": "dd240dc5-f01a-4ca1-f1c4-703c1e6360ad"
      },
      "source": [
        "fg"
      ],
      "execution_count": 1,
      "outputs": [
        {
          "output_type": "error",
          "ename": "NameError",
          "evalue": "ignored",
          "traceback": [
            "\u001b[0;31m---------------------------------------------------------------------------\u001b[0m",
            "\u001b[0;31mNameError\u001b[0m                                 Traceback (most recent call last)",
            "\u001b[0;32m<ipython-input-1-61ff6a34af84>\u001b[0m in \u001b[0;36m<module>\u001b[0;34m()\u001b[0m\n\u001b[0;32m----> 1\u001b[0;31m \u001b[0mfg\u001b[0m\u001b[0;34m\u001b[0m\u001b[0;34m\u001b[0m\u001b[0m\n\u001b[0m",
            "\u001b[0;31mNameError\u001b[0m: name 'fg' is not defined"
          ]
        }
      ]
    }
  ]
}